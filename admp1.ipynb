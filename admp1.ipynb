{
  "nbformat": 4,
  "nbformat_minor": 0,
  "metadata": {
    "colab": {
      "provenance": [],
      "include_colab_link": true
    },
    "kernelspec": {
      "name": "python3",
      "display_name": "Python 3"
    },
    "language_info": {
      "name": "python"
    }
  },
  "cells": [
    {
      "cell_type": "markdown",
      "metadata": {
        "id": "view-in-github",
        "colab_type": "text"
      },
      "source": [
        "<a href=\"https://colab.research.google.com/github/arinaholubtsova/ADMP/blob/main/admp1.ipynb\" target=\"_parent\"><img src=\"https://colab.research.google.com/assets/colab-badge.svg\" alt=\"Open In Colab\"/></a>"
      ]
    },
    {
      "cell_type": "code",
      "execution_count": null,
      "metadata": {
        "id": "ZuWG8LWM3e2r"
      },
      "outputs": [],
      "source": [
        "import math\n",
        "import random\n",
        "import numpy as np"
      ]
    },
    {
      "cell_type": "markdown",
      "source": [
        "**Завдання** **3**"
      ],
      "metadata": {
        "id": "HynG1ZB_3-GD"
      }
    },
    {
      "cell_type": "code",
      "source": [
        "%time result = 10/5\n",
        "result"
      ],
      "metadata": {
        "colab": {
          "base_uri": "https://localhost:8080/"
        },
        "id": "NUgaeOIS3xHg",
        "outputId": "29f0536a-2b4b-465b-b3fe-26660c7c2c38"
      },
      "execution_count": null,
      "outputs": [
        {
          "output_type": "stream",
          "name": "stdout",
          "text": [
            "CPU times: user 3 µs, sys: 1e+03 ns, total: 4 µs\n",
            "Wall time: 6.2 µs\n"
          ]
        },
        {
          "output_type": "execute_result",
          "data": {
            "text/plain": [
              "2.0"
            ]
          },
          "metadata": {},
          "execution_count": 9
        }
      ]
    },
    {
      "cell_type": "code",
      "source": [
        "%%time\n",
        "result = 10/5\n",
        "result\n"
      ],
      "metadata": {
        "colab": {
          "base_uri": "https://localhost:8080/"
        },
        "id": "DqUPguDp4Jih",
        "outputId": "289a29f4-e408-46bc-8a82-b86c732f1929"
      },
      "execution_count": null,
      "outputs": [
        {
          "output_type": "stream",
          "name": "stdout",
          "text": [
            "CPU times: user 18 µs, sys: 4 µs, total: 22 µs\n",
            "Wall time: 24.8 µs\n"
          ]
        },
        {
          "output_type": "execute_result",
          "data": {
            "text/plain": [
              "2.0"
            ]
          },
          "metadata": {},
          "execution_count": 10
        }
      ]
    },
    {
      "cell_type": "markdown",
      "source": [
        "**Завдання** **4**"
      ],
      "metadata": {
        "id": "lcyMAMYZ4QSS"
      }
    },
    {
      "cell_type": "code",
      "metadata": {
        "colab": {
          "base_uri": "https://localhost:8080/"
        },
        "id": "vX0nk5yWYFXm",
        "outputId": "f3c328be-0289-459b-96e8-e89ad98a3614"
      },
      "source": [
        "attempt = %timeit -o res1 = 10/5\n",
        "attempt1 = %timeit -r 7 -n 10 -o res2 = 10/5\n",
        "attempt2 = %timeit -r 10 -n 100 -o res3 = 10/5\n",
        "attempt3 = %timeit -r 14 -n 1000 -o res4 = 10/5"
      ],
      "execution_count": null,
      "outputs": [
        {
          "output_type": "stream",
          "name": "stdout",
          "text": [
            "10.9 ns ± 1.86 ns per loop (mean ± std. dev. of 7 runs, 100000000 loops each)\n",
            "24.7 ns ± 10.2 ns per loop (mean ± std. dev. of 7 runs, 10 loops each)\n",
            "12.8 ns ± 0.99 ns per loop (mean ± std. dev. of 10 runs, 100 loops each)\n",
            "11.8 ns ± 0.0803 ns per loop (mean ± std. dev. of 14 runs, 1000 loops each)\n"
          ]
        }
      ]
    },
    {
      "cell_type": "code",
      "source": [
        "%%timeit\n",
        "a = 10/5"
      ],
      "metadata": {
        "colab": {
          "base_uri": "https://localhost:8080/"
        },
        "id": "uAlknRARcLm6",
        "outputId": "0473da0e-d89d-4b17-8d12-fcb1d72b6a04"
      },
      "execution_count": null,
      "outputs": [
        {
          "output_type": "stream",
          "name": "stdout",
          "text": [
            "9.57 ns ± 0.179 ns per loop (mean ± std. dev. of 7 runs, 100000000 loops each)\n"
          ]
        }
      ]
    },
    {
      "cell_type": "code",
      "source": [
        "%%timeit -r 20 -n 50\n",
        "a = 10/5"
      ],
      "metadata": {
        "colab": {
          "base_uri": "https://localhost:8080/"
        },
        "id": "z_6Gxa8FcSiM",
        "outputId": "d68459a7-477d-4269-9856-66f029fe3c46"
      },
      "execution_count": null,
      "outputs": [
        {
          "output_type": "stream",
          "name": "stdout",
          "text": [
            "14.3 ns ± 1.66 ns per loop (mean ± std. dev. of 20 runs, 50 loops each)\n"
          ]
        }
      ]
    },
    {
      "cell_type": "code",
      "source": [
        "%%timeit -r 30 -n 1000\n",
        "a = 10/5"
      ],
      "metadata": {
        "colab": {
          "base_uri": "https://localhost:8080/"
        },
        "id": "Os0EI4j-cU_s",
        "outputId": "cc6e72e8-c773-454e-ddb7-ac3f1a2924e2"
      },
      "execution_count": null,
      "outputs": [
        {
          "output_type": "stream",
          "name": "stdout",
          "text": [
            "12.7 ns ± 3.96 ns per loop (mean ± std. dev. of 30 runs, 1000 loops each)\n"
          ]
        }
      ]
    },
    {
      "cell_type": "markdown",
      "source": [
        "**Завдання** **5**"
      ],
      "metadata": {
        "id": "zqmoTJu6_JJt"
      }
    },
    {
      "cell_type": "code",
      "source": [
        "print(\"\\nрезультати n-кратного обчислення виразу, де n = \",attempt.loops)\n",
        "print(attempt.all_runs)\n",
        "print(\"мінімальний час = \",attempt.best)\n",
        "\n",
        "print(\"\\nрезультати n-кратного обчислення виразу, де n = \",attempt1.loops)\n",
        "print(attempt1.all_runs)\n",
        "print(\"мінімальний час = \",attempt1.best)\n",
        "\n",
        "print(\"\\nрезультати n-кратного обчислення виразу, де n = \",attempt2.loops)\n",
        "print(attempt2.all_runs)\n",
        "print(\"мінімальний час = \",attempt2.best)\n",
        "\n",
        "print(\"\\nрезультати n-кратного обчислення виразу, де n = \",attempt3.loops)\n",
        "print(attempt3.all_runs)\n",
        "print(\"Mмінімальний час = \",attempt3.best)"
      ],
      "metadata": {
        "colab": {
          "base_uri": "https://localhost:8080/"
        },
        "id": "iD2l9foJgujj",
        "outputId": "342ebe5f-aea7-449d-b29f-2fc49b87fac7"
      },
      "execution_count": null,
      "outputs": [
        {
          "output_type": "stream",
          "name": "stdout",
          "text": [
            "\n",
            "результати n-кратного обчислення виразу, де n =  100000000\n",
            "[1.0035910369999783, 0.9756977000000688, 0.9955976879999753, 0.9460943340000085, 1.2729006140000365, 1.4742835399999876, 0.9826317600000039]\n",
            "мінімальний час =  9.460943340000085e-09\n",
            "\n",
            "результати n-кратного обчислення виразу, де n =  10\n",
            "[4.800000397153781e-07, 2.900000026784255e-07, 2.2000006083544577e-07, 1.9000003703695256e-07, 1.8999992335011484e-07, 1.800000291041215e-07, 1.800000291041215e-07]\n",
            "мінімальний час =  1.800000291041215e-08\n",
            "\n",
            "результати n-кратного обчислення виразу, де n =  100\n",
            "[1.5499999790336005e-06, 1.3399999261309858e-06, 1.2900000001536682e-06, 1.2299999525566818e-06, 1.2299999525566818e-06, 1.2200000583106885e-06, 1.2199999446238508e-06, 1.2200000583106885e-06, 1.2100000503778574e-06, 1.2500000821091817e-06]\n",
            "мінімальний час =  1.2100000503778574e-08\n",
            "\n",
            "результати n-кратного обчислення виразу, де n =  1000\n",
            "[1.2050000009367068e-05, 1.183000006221846e-05, 1.1810000046352798e-05, 1.1749999998755811e-05, 1.173999999082298e-05, 1.173999999082298e-05, 1.1749999998755811e-05, 1.173999999082298e-05, 1.173999999082298e-05, 1.1749999998755811e-05, 1.1749999998755811e-05, 1.173999999082298e-05, 1.173999999082298e-05, 1.1749999998755811e-05]\n",
            "Mмінімальний час =  1.173999999082298e-08\n"
          ]
        }
      ]
    },
    {
      "cell_type": "markdown",
      "source": [
        "**Завдання 6**"
      ],
      "metadata": {
        "id": "Ge74ZvBFA3p4"
      }
    },
    {
      "cell_type": "code",
      "source": [
        "%time ex1res1 = math.pi/4\n"
      ],
      "metadata": {
        "colab": {
          "base_uri": "https://localhost:8080/"
        },
        "id": "2hOO9SNj54F9",
        "outputId": "be3ea40e-5d08-4b30-bbd5-c7c17f7154ea"
      },
      "execution_count": null,
      "outputs": [
        {
          "output_type": "stream",
          "name": "stdout",
          "text": [
            "CPU times: user 4 µs, sys: 0 ns, total: 4 µs\n",
            "Wall time: 6.2 µs\n"
          ]
        }
      ]
    },
    {
      "cell_type": "code",
      "source": [
        "%%time\n",
        "ex1res2 = math.pi/4\n"
      ],
      "metadata": {
        "colab": {
          "base_uri": "https://localhost:8080/"
        },
        "id": "52pYZv3F6tT4",
        "outputId": "c02512ba-65e1-4f68-c0d2-ec7c2d29c8c9"
      },
      "execution_count": null,
      "outputs": [
        {
          "output_type": "stream",
          "name": "stdout",
          "text": [
            "CPU times: user 3 µs, sys: 0 ns, total: 3 µs\n",
            "Wall time: 5.25 µs\n"
          ]
        }
      ]
    },
    {
      "cell_type": "code",
      "source": [
        "%timeit -n 1 -r 1 math.pi/4\n"
      ],
      "metadata": {
        "colab": {
          "base_uri": "https://localhost:8080/"
        },
        "id": "SHYXasGO6vvk",
        "outputId": "35350ae0-abc6-41a4-d304-15fa833a52ee"
      },
      "execution_count": null,
      "outputs": [
        {
          "output_type": "stream",
          "name": "stdout",
          "text": [
            "830 ns ± 0 ns per loop (mean ± std. dev. of 1 run, 1 loop each)\n"
          ]
        }
      ]
    },
    {
      "cell_type": "code",
      "source": [
        "%%timeit -r 10\n",
        "ex1res4 = math.pi/4"
      ],
      "metadata": {
        "colab": {
          "base_uri": "https://localhost:8080/"
        },
        "id": "E1DKHUui68L3",
        "outputId": "ddd25ec2-0410-4d38-c75e-a7b4ba0f7a3e"
      },
      "execution_count": null,
      "outputs": [
        {
          "output_type": "stream",
          "name": "stdout",
          "text": [
            "59.1 ns ± 15.6 ns per loop (mean ± std. dev. of 10 runs, 10000000 loops each)\n"
          ]
        }
      ]
    },
    {
      "cell_type": "markdown",
      "source": [
        "вираз 2"
      ],
      "metadata": {
        "id": "gFyQd4b_BrGi"
      }
    },
    {
      "cell_type": "code",
      "source": [
        "n = 10000\n",
        "%time sum([random.uniform(0,1) for i in range(n)])/n"
      ],
      "metadata": {
        "colab": {
          "base_uri": "https://localhost:8080/"
        },
        "id": "ojyMcxZc7H9U",
        "outputId": "3861e2ec-7639-4c96-a2b2-5af9a9b499a7"
      },
      "execution_count": null,
      "outputs": [
        {
          "output_type": "stream",
          "name": "stdout",
          "text": [
            "CPU times: user 3.78 ms, sys: 0 ns, total: 3.78 ms\n",
            "Wall time: 3.79 ms\n"
          ]
        },
        {
          "output_type": "execute_result",
          "data": {
            "text/plain": [
              "0.4998263960057356"
            ]
          },
          "metadata": {},
          "execution_count": 20
        }
      ]
    },
    {
      "cell_type": "code",
      "source": [
        "%%time\n",
        "sum([random.uniform(0,1) for i in range(n)])/n"
      ],
      "metadata": {
        "colab": {
          "base_uri": "https://localhost:8080/"
        },
        "id": "liQ8qCgp7M2q",
        "outputId": "532bd557-38d4-465b-ece2-4d0e2b30cc11"
      },
      "execution_count": null,
      "outputs": [
        {
          "output_type": "stream",
          "name": "stdout",
          "text": [
            "CPU times: user 1.99 ms, sys: 0 ns, total: 1.99 ms\n",
            "Wall time: 1.99 ms\n"
          ]
        },
        {
          "output_type": "execute_result",
          "data": {
            "text/plain": [
              "0.503053937463712"
            ]
          },
          "metadata": {},
          "execution_count": 21
        }
      ]
    },
    {
      "cell_type": "code",
      "source": [
        "%timeit -n1 -r1 sum([random.uniform(0,1) for i in range(n)])/n\n"
      ],
      "metadata": {
        "colab": {
          "base_uri": "https://localhost:8080/"
        },
        "id": "Z8ro95dc7PtJ",
        "outputId": "808ce498-3553-483f-d537-1e90e57723e0"
      },
      "execution_count": null,
      "outputs": [
        {
          "output_type": "stream",
          "name": "stdout",
          "text": [
            "3.65 ms ± 0 ns per loop (mean ± std. dev. of 1 run, 1 loop each)\n"
          ]
        }
      ]
    },
    {
      "cell_type": "code",
      "source": [
        "%%timeit -r 10\n",
        "sum([random.uniform(0,1) for i in range(n)])/n"
      ],
      "metadata": {
        "colab": {
          "base_uri": "https://localhost:8080/"
        },
        "id": "earBW0PP7Sav",
        "outputId": "7bdbc92e-417e-4025-b976-96fe341ea4ee"
      },
      "execution_count": null,
      "outputs": [
        {
          "output_type": "stream",
          "name": "stdout",
          "text": [
            "2.06 ms ± 355 µs per loop (mean ± std. dev. of 10 runs, 1000 loops each)\n"
          ]
        }
      ]
    },
    {
      "cell_type": "markdown",
      "source": [
        "вираз 3"
      ],
      "metadata": {
        "id": "Cu32bPM3Ba6N"
      }
    },
    {
      "cell_type": "code",
      "source": [
        "%time sum([math.sinh(random.random()) for i in range (n)])/n"
      ],
      "metadata": {
        "colab": {
          "base_uri": "https://localhost:8080/"
        },
        "id": "JhHSpt_-7V87",
        "outputId": "53b7840f-5231-4e57-8ba1-9f6ce236f367"
      },
      "execution_count": null,
      "outputs": [
        {
          "output_type": "stream",
          "name": "stdout",
          "text": [
            "CPU times: user 1.7 ms, sys: 0 ns, total: 1.7 ms\n",
            "Wall time: 1.71 ms\n"
          ]
        },
        {
          "output_type": "execute_result",
          "data": {
            "text/plain": [
              "0.5413435047788075"
            ]
          },
          "metadata": {},
          "execution_count": 24
        }
      ]
    },
    {
      "cell_type": "code",
      "source": [
        "%%time\n",
        "sum([math.sinh(random.random()) for i in range (n)])/n"
      ],
      "metadata": {
        "colab": {
          "base_uri": "https://localhost:8080/"
        },
        "id": "e-2dwyw-7Y5g",
        "outputId": "e3871410-f5e3-4c22-f6ff-d0c853c44159"
      },
      "execution_count": null,
      "outputs": [
        {
          "output_type": "stream",
          "name": "stdout",
          "text": [
            "CPU times: user 1.71 ms, sys: 0 ns, total: 1.71 ms\n",
            "Wall time: 1.71 ms\n"
          ]
        },
        {
          "output_type": "execute_result",
          "data": {
            "text/plain": [
              "0.5417407587239953"
            ]
          },
          "metadata": {},
          "execution_count": 25
        }
      ]
    },
    {
      "cell_type": "code",
      "source": [
        "%timeit -n1 -r1 sum([math.sinh(random.random()) for i in range (n)])/n\n"
      ],
      "metadata": {
        "colab": {
          "base_uri": "https://localhost:8080/"
        },
        "id": "QgQ4a5Oy7eEI",
        "outputId": "175608fa-e93e-49b6-fb00-e3a0896ec588"
      },
      "execution_count": null,
      "outputs": [
        {
          "output_type": "stream",
          "name": "stdout",
          "text": [
            "1.61 ms ± 0 ns per loop (mean ± std. dev. of 1 run, 1 loop each)\n"
          ]
        }
      ]
    },
    {
      "cell_type": "code",
      "source": [
        "%%timeit -r 10\n",
        "sum([math.sinh(random.random()) for i in range (n)])/n"
      ],
      "metadata": {
        "colab": {
          "base_uri": "https://localhost:8080/"
        },
        "id": "8BLFXPiA7iLs",
        "outputId": "5fbb8afc-a6d9-494c-9a60-2001d4a7b259"
      },
      "execution_count": null,
      "outputs": [
        {
          "output_type": "stream",
          "name": "stdout",
          "text": [
            "1.46 ms ± 222 µs per loop (mean ± std. dev. of 10 runs, 1000 loops each)\n"
          ]
        }
      ]
    },
    {
      "cell_type": "markdown",
      "source": [
        "| вираз |автооцінка| %time | %%time | %timeit (мін) | %%timeit |\n",
        "|-------|----------|-------|--------|----------------|----------|\n",
        "|   1   | 0.257 s  |6.2 µs|  5.25 µs | 830 ns        | 59.1 ns  |\n",
        "|   2   | 0.256 s  |3.79 ms|1.99 ms | 3.65 ms        | 2.06 ms   |\n",
        "|   3   | 0.251 s  |1.71 ms|1.71 ms | 1.61 ms        | 1.46 ms  |"
      ],
      "metadata": {
        "id": "eOX3kMzC7kyN"
      }
    },
    {
      "cell_type": "markdown",
      "source": [
        "**Завдання 8**"
      ],
      "metadata": {
        "id": "MOIKIYZ_RgFU"
      }
    },
    {
      "cell_type": "code",
      "source": [
        "def func2_list(n):\n",
        "  return sum([random.uniform(0,1) for i in range(n)])/n\n",
        "\n",
        "def func3_list(n):\n",
        "  return sum([random.uniform(0,1) for i in range(n)])/n"
      ],
      "metadata": {
        "id": "X1ZX7ccJRtO5"
      },
      "execution_count": null,
      "outputs": []
    },
    {
      "cell_type": "markdown",
      "source": [
        "**Завдання 9**"
      ],
      "metadata": {
        "id": "NcvKw2Jtebsv"
      }
    },
    {
      "cell_type": "code",
      "source": [
        "def func2_np(n):\n",
        "  return np.sum(np.random.uniform(0, 1, n))/n\n",
        "\n",
        "def func3_np(n):\n",
        "  return np.sum(np.random.uniform(0, 1, n))/n"
      ],
      "metadata": {
        "id": "i7hNO1eceiAN"
      },
      "execution_count": null,
      "outputs": []
    },
    {
      "cell_type": "markdown",
      "source": [
        "**Завдання 10**"
      ],
      "metadata": {
        "id": "exii-Pw6g1Af"
      }
    },
    {
      "cell_type": "code",
      "source": [
        "!pip install --no-deps simple_benchmark\n",
        "from simple_benchmark import  benchmark"
      ],
      "metadata": {
        "colab": {
          "base_uri": "https://localhost:8080/"
        },
        "id": "0ICYnfKxhGhZ",
        "outputId": "5fe49d23-4f17-45d9-962b-c88ce9a1c9ed"
      },
      "execution_count": null,
      "outputs": [
        {
          "output_type": "stream",
          "name": "stdout",
          "text": [
            "Collecting simple_benchmark\n",
            "  Downloading simple_benchmark-0.1.0.tar.gz (13 kB)\n",
            "  Preparing metadata (setup.py) ... \u001b[?25l\u001b[?25hdone\n",
            "Building wheels for collected packages: simple_benchmark\n",
            "  Building wheel for simple_benchmark (setup.py) ... \u001b[?25l\u001b[?25hdone\n",
            "  Created wheel for simple_benchmark: filename=simple_benchmark-0.1.0-py3-none-any.whl size=11655 sha256=1b1046bfdc32989fb9f9bc228f76d00e2171b7811405bac9e9911a9268dd582d\n",
            "  Stored in directory: /root/.cache/pip/wheels/ff/aa/d3/c4baa2a8748952f706ae1c25c467d57a828d6d5dfa8e4ebd95\n",
            "Successfully built simple_benchmark\n",
            "Installing collected packages: simple_benchmark\n",
            "Successfully installed simple_benchmark-0.1.0\n"
          ]
        }
      ]
    },
    {
      "cell_type": "markdown",
      "source": [
        "**Завдання 11**"
      ],
      "metadata": {
        "id": "OY1R_cy7hQrq"
      }
    },
    {
      "cell_type": "code",
      "metadata": {
        "colab": {
          "base_uri": "https://localhost:8080/",
          "height": 578
        },
        "id": "J1CFzg1O6vXo",
        "outputId": "082cca08-5c81-45f4-9634-048ec0c7b790"
      },
      "source": [
        "args = {10**i:10**i for i in range(1,7)}\n",
        "b = benchmark([func2_list,func2_np,func3_list,func3_np],args)\n",
        "print(b)\n",
        "b.plot()"
      ],
      "execution_count": null,
      "outputs": [
        {
          "output_type": "stream",
          "name": "stdout",
          "text": [
            "         func2_list  func2_np  func3_list  func3_np\n",
            "10         0.000002  0.000005    0.000002  0.000005\n",
            "100        0.000018  0.000006    0.000017  0.000006\n",
            "1000       0.000180  0.000011    0.000181  0.000019\n",
            "10000      0.003257  0.000113    0.003358  0.000125\n",
            "100000     0.034340  0.001146    0.033735  0.001111\n",
            "1000000    0.204158  0.006162    0.195832  0.006176\n"
          ]
        },
        {
          "output_type": "display_data",
          "data": {
            "text/plain": [
              "<Figure size 640x480 with 1 Axes>"
            ],
            "image/png": "[encoded data removed]"
          },
          "metadata": {}
        }
      ]
    }
  ]
}