{
  "nbformat": 4,
  "nbformat_minor": 0,
  "metadata": {
    "colab": {
      "provenance": [],
      "authorship_tag": "ABX9TyMJ6LSID74iNanGtiK42oJC",
      "include_colab_link": true
    },
    "kernelspec": {
      "name": "python3",
      "display_name": "Python 3"
    },
    "language_info": {
      "name": "python"
    }
  },
  "cells": [
    {
      "cell_type": "markdown",
      "metadata": {
        "id": "view-in-github",
        "colab_type": "text"
      },
      "source": [
        "<a href=\"https://colab.research.google.com/github/arinaholubtsova/ADMP/blob/main/Untitled1.ipynb\" target=\"_parent\"><img src=\"https://colab.research.google.com/assets/colab-badge.svg\" alt=\"Open In Colab\"/></a>"
      ]
    },
    {
      "cell_type": "code",
      "execution_count": null,
      "metadata": {
        "colab": {
          "base_uri": "https://localhost:8080/"
        },
        "id": "8FLaUo8t8ItC",
        "outputId": "5b9650ae-8041-4d9d-f41f-05abfeba6d1c"
      },
      "outputs": [
        {
          "output_type": "stream",
          "name": "stdout",
          "text": [
            "         F1        F2        F3        F4\n",
            "0 -1.976976  0.289020  1.309386 -0.075428\n",
            "1 -0.744214  2.069312  1.088656  1.114011\n",
            "2  0.719267  3.248897  0.087495  0.705446\n",
            "3  0.049742  0.319666 -0.242214  0.278033\n",
            "4  0.832347  2.333966 -0.234127 -0.606394\n",
            "Медіана ознаки F3 для рядків зі строго негативним F4: 1.075085688197639\n"
          ]
        }
      ],
      "source": [
        "import pandas as pd\n",
        "\n",
        "# Завантаження даних з CSV-файлу\n",
        "file_path = 'data.csv'\n",
        "df = pd.read_csv(file_path)\n",
        "\n",
        "# Виведення перших декількох рядків для вивчення структури даних\n",
        "print(df.head())\n",
        "\n",
        "# Відфільтруємо дані для рядків, де F4 є строго негативним\n",
        "filtered_df = df[df['F4'] < 0]\n",
        "\n",
        "# Знайдемо медіану для ознаки F3 в відфільтрованих даних\n",
        "median_f3 = filtered_df['F3'].median()\n",
        "\n",
        "# Виведення медіани ознаки F3\n",
        "print(\"Медіана ознаки F3 для рядків зі строго негативним F4:\", median_f3)\n"
      ]
    },
    {
      "cell_type": "code",
      "source": [
        "import pandas as pd\n",
        "\n",
        "# Задані таблиці\n",
        "df1 = pd.DataFrame({'a': [9, 8, 5], 'b': [3, 2, 4], 'c': [7, 1, 6]})\n",
        "df2 = pd.DataFrame({'b': [5, 3, 6], 'c': [2, 4, 8], 'd': [7, 1, 9]})\n",
        "\n",
        "# Об'єднання таблиць за індексом\n",
        "df_sum = df1.add(df2, fill_value=0)\n",
        "\n",
        "# Виведення результату\n",
        "result = df_sum.iloc[2, 2]\n",
        "print(result)\n"
      ],
      "metadata": {
        "colab": {
          "base_uri": "https://localhost:8080/"
        },
        "id": "_Zk2V4DT0TjS",
        "outputId": "6fde774f-e339-418a-dc4c-cc648f466a00"
      },
      "execution_count": null,
      "outputs": [
        {
          "output_type": "stream",
          "name": "stdout",
          "text": [
            "14\n"
          ]
        }
      ]
    },
    {
      "cell_type": "code",
      "source": [
        "import pandas as pd\n",
        "\n",
        "# Задані таблиці\n",
        "df1 = pd.DataFrame({'a': [9, 8, 5], 'b': [3, 2, 4], 'c': [7, 1, 6]})\n",
        "df2 = pd.DataFrame({'b': [5, 3, 6], 'c': [2, 4, 8], 'd': [7, 1, 9]})\n",
        "\n",
        "# Присвоєння нових індексів для df2\n",
        "df2.index = range(1, len(df2) + 1)\n",
        "\n",
        "# Об'єднання таблиць за індексом\n",
        "df_sum = df1.add(df2, fill_value=0)\n",
        "\n",
        "# Виведення результату\n",
        "result = df_sum.iloc[2, 2]\n",
        "print(result)\n"
      ],
      "metadata": {
        "colab": {
          "base_uri": "https://localhost:8080/"
        },
        "id": "XKvLzK4c2ane",
        "outputId": "bf160c02-7f17-46c9-8b8b-664e692749e8"
      },
      "execution_count": null,
      "outputs": [
        {
          "output_type": "stream",
          "name": "stdout",
          "text": [
            "10.0\n"
          ]
        }
      ]
    },
    {
      "cell_type": "code",
      "source": [
        "import pandas as pd\n",
        "\n",
        "# Створення DataFrame для df1\n",
        "df1 = pd.DataFrame({\n",
        "    'a': [7, 5, 4],\n",
        "    'b': [3, 6, 2],\n",
        "    'c': [4, 2, 9]\n",
        "})\n",
        "\n",
        "# Створення DataFrame для df2\n",
        "df2 = pd.DataFrame({\n",
        "    'b': [4, 3, 2],\n",
        "    'c': [5, 9, 6],\n",
        "    'd': [7, 1, 8]\n",
        "})\n",
        "\n",
        "# Віднімання df2 від df1\n",
        "result_df = df1 - df2\n",
        "\n",
        "# Отримання числа за індексом 2 та стовпцем 'c'\n",
        "result = result_df.loc[2, 'c']\n",
        "\n",
        "print(result)\n"
      ],
      "metadata": {
        "colab": {
          "base_uri": "https://localhost:8080/"
        },
        "id": "vJB1MqDE3Xb2",
        "outputId": "09aa46dc-fe4d-429d-8e8d-dadb615f2bdb"
      },
      "execution_count": null,
      "outputs": [
        {
          "output_type": "stream",
          "name": "stdout",
          "text": [
            "3\n"
          ]
        }
      ]
    },
    {
      "cell_type": "code",
      "source": [
        "import pandas as pd\n",
        "\n",
        "# Задані дані\n",
        "data1 = {'a': [7, 5, 4], 'b': [3, 6, 2], 'c': [8, 1, 9]}\n",
        "data2 = {'b': [4, 3, 2], 'c': [5, 9, 6], 'd': [7, 1, 8]}\n",
        "\n",
        "# Створення pandas DataFrame\n",
        "df1 = pd.DataFrame(data1)\n",
        "df2 = pd.DataFrame(data2)\n",
        "\n",
        "# Вирахування різниці між df1 і df2 та отримання значення за вказаними індексами\n",
        "output = (df1 - df2).loc[2, 'c']\n",
        "\n",
        "# Виведення результату\n",
        "print(output)\n"
      ],
      "metadata": {
        "colab": {
          "base_uri": "https://localhost:8080/"
        },
        "id": "rYVSr40F3t9X",
        "outputId": "a4776df9-7712-4509-805a-c786eed4c373"
      },
      "execution_count": null,
      "outputs": [
        {
          "output_type": "stream",
          "name": "stdout",
          "text": [
            "3\n"
          ]
        }
      ]
    },
    {
      "cell_type": "code",
      "source": [
        "import pandas as pd\n",
        "\n",
        "# Ваші дані\n",
        "data1 = {'a': [7, 5, 4], 'b': [3, 6, 2], 'c': [8, 1, 9]}\n",
        "data2 = {'b': [4, 3, 2], 'c': [5, 9, 6], 'd': [7, 1, 8]}\n",
        "\n",
        "# Створення pandas-таблиць df1 і df2\n",
        "df1 = pd.DataFrame(data1)\n",
        "df2 = pd.DataFrame(data2)\n",
        "\n",
        "# Вираз (df1-df2).loc[1, 'c']\n",
        "result = (df1 - df2).loc[1, 'c']\n",
        "\n",
        "print(result)\n"
      ],
      "metadata": {
        "colab": {
          "base_uri": "https://localhost:8080/"
        },
        "id": "w1_gOE0a4W5t",
        "outputId": "beed23fc-d1a4-4594-f2a1-697ea08db451"
      },
      "execution_count": null,
      "outputs": [
        {
          "output_type": "stream",
          "name": "stdout",
          "text": [
            "-8\n"
          ]
        }
      ]
    },
    {
      "cell_type": "code",
      "source": [
        "import pandas as pd\n",
        "\n",
        "# Задані дані\n",
        "data1 = {'a': [9, 8, 5], 'b': [3, 2, 4], 'c': [7, 1, 6]}\n",
        "data2 = {'b': [5, 3, 6], 'c': [2, 4, 8], 'd': [7, 1, 9]}\n",
        "\n",
        "# Створення DataFrame\n",
        "df1 = pd.DataFrame(data1)\n",
        "df2 = pd.DataFrame(data2)\n",
        "\n",
        "# Додавання таблиць\n",
        "result = df1 + df2\n",
        "\n",
        "# Виведення результату та значення за індексами (2, 1)\n",
        "print(result)\n",
        "print(\"Результат (df1+df2).iloc[2, 1]:\", result.iloc[2, 1])\n"
      ],
      "metadata": {
        "colab": {
          "base_uri": "https://localhost:8080/"
        },
        "id": "wA_hohzW7QCL",
        "outputId": "c937f723-5cd0-45f4-e845-c185486f7ae2"
      },
      "execution_count": null,
      "outputs": [
        {
          "output_type": "stream",
          "name": "stdout",
          "text": [
            "    a   b   c   d\n",
            "0 NaN   8   9 NaN\n",
            "1 NaN   5   5 NaN\n",
            "2 NaN  10  14 NaN\n",
            "Результат (df1+df2).iloc[2, 1]: 10\n"
          ]
        }
      ]
    },
    {
      "cell_type": "code",
      "source": [
        "import pandas as pd\n",
        "\n",
        "# Ваша таблиця df\n",
        "data = {'ID': [1, 2, 3, 4, 5],\n",
        "        'Length': [5.4, 4.5, 6.1, 3.9, 4.9],\n",
        "        'Width': [1.4, 2.4, 1.7, 0.5, 1.2],\n",
        "        'Color': ['red', 'blue', 'green', 'yellow', 'yellow'],\n",
        "        'Class': ['two', 'one', 'one', 'three', 'one']}\n",
        "\n",
        "df = pd.DataFrame(data)\n",
        "\n",
        "result = df.groupby(lambda label: df.Width[label] < 2).ngroups\n",
        "print(result)\n",
        "\n"
      ],
      "metadata": {
        "colab": {
          "base_uri": "https://localhost:8080/"
        },
        "id": "b7V8P8qAgU9U",
        "outputId": "c6bbbe5a-abe2-42db-8f45-7d74b2771222"
      },
      "execution_count": null,
      "outputs": [
        {
          "output_type": "stream",
          "name": "stdout",
          "text": [
            "2\n"
          ]
        }
      ]
    },
    {
      "cell_type": "code",
      "source": [
        "import pandas as pd\n",
        "\n",
        "# Завантаження даних з CSV-файлу\n",
        "df = pd.read_csv('data.csv')\n",
        "\n",
        "# Відфільтрування рядків, де значення ознаки F2 є строго позитивними\n",
        "filtered_df = df[df['F2'] > 0]\n",
        "\n",
        "# Обчислення середнього значення ознаки F3 для відфільтрованих об'єктів\n",
        "mean_f3 = filtered_df['F3'].mean()\n",
        "\n",
        "print(f\"Середнє значення ознаки F3 для об'єктів з позитивними F2: {mean_f3}\")\n"
      ],
      "metadata": {
        "colab": {
          "base_uri": "https://localhost:8080/"
        },
        "id": "CBXWx3XSlAvj",
        "outputId": "302c3d6b-66f7-4d69-a827-a9ca7c4d35a7"
      },
      "execution_count": null,
      "outputs": [
        {
          "output_type": "stream",
          "name": "stdout",
          "text": [
            "Середнє значення ознаки F3 для об'єктів з позитивними F2: 0.6009477470976566\n"
          ]
        }
      ]
    },
    {
      "cell_type": "code",
      "source": [
        "import pandas as pd\n",
        "\n",
        "# Завантажте CSV-файл у DataFrame\n",
        "df = pd.read_csv('data.csv')\n",
        "\n",
        "# Виведіть перші кілька рядків для перевірки даних\n",
        "print(df.head())\n",
        "\n",
        "# Обчисліть коефіцієнт кореляції Пірсона\n",
        "correlation = df['F2'].corr(df['F4'])\n",
        "\n",
        "# Виведіть результат\n",
        "print(f\"Коефіцієнт кореляції Пірсона між F2 і F4: {correlation}\")\n"
      ],
      "metadata": {
        "colab": {
          "base_uri": "https://localhost:8080/"
        },
        "id": "vyxS0FDFpG00",
        "outputId": "2c2b2d42-78f0-43c5-fa74-a03b80606868"
      },
      "execution_count": null,
      "outputs": [
        {
          "output_type": "stream",
          "name": "stdout",
          "text": [
            "         F1        F2        F3        F4\n",
            "0 -1.976976  0.289020  1.309386 -0.075428\n",
            "1 -0.744214  2.069312  1.088656  1.114011\n",
            "2  0.719267  3.248897  0.087495  0.705446\n",
            "3  0.049742  0.319666 -0.242214  0.278033\n",
            "4  0.832347  2.333966 -0.234127 -0.606394\n",
            "Коефіцієнт кореляції Пірсона між F2 і F4: -0.07818110617667745\n"
          ]
        }
      ]
    },
    {
      "cell_type": "code",
      "source": [
        "# Імпорт необхідних бібліотек\n",
        "import pandas as pd\n",
        "from scipy.stats import spearmanr\n",
        "\n",
        "# Завантаження даних з CSV-файлу\n",
        "df = pd.read_csv('data.csv')\n",
        "\n",
        "# Виведення перших декількох рядків набору даних для перевірки\n",
        "print(df.head())\n",
        "\n",
        "# Обчислення коефіцієнта кореляції Спірмена між F1 і F2\n",
        "corr, _ = spearmanr(df['F1'], df['F2'])\n",
        "\n",
        "# Виведення результату\n",
        "print(f'Коефіцієнт кореляції Спірмена: {corr}')\n"
      ],
      "metadata": {
        "colab": {
          "base_uri": "https://localhost:8080/"
        },
        "id": "F-Y1jfwfp3X3",
        "outputId": "30fbb971-d6ea-47a9-a067-fb6a3ff37f48"
      },
      "execution_count": null,
      "outputs": [
        {
          "output_type": "stream",
          "name": "stdout",
          "text": [
            "         F1        F2        F3        F4\n",
            "0  2.529735 -1.924164  0.854237 -1.972997\n",
            "1  0.416022  0.099787 -0.029189 -1.671822\n",
            "2  0.488497 -1.271972  0.524912 -1.719248\n",
            "3 -0.489157 -0.830527  1.424950 -0.789720\n",
            "4  0.194169 -2.311010  3.956107  0.306187\n",
            "Коефіцієнт кореляції Спірмена: -0.10298229822982297\n"
          ]
        }
      ]
    },
    {
      "cell_type": "code",
      "source": [
        "import pandas as pd\n",
        "\n",
        "# Завантажте CSV-файл в DataFrame\n",
        "df = pd.read_csv('data.csv')\n",
        "\n",
        "# Виберіть рядки, де значення F3 є строго позитивними\n",
        "filtered_df = df[df['F3'] > 0]\n",
        "\n",
        "# Знайдіть стандартне відхилення ознаки F2 для відфільтрованих рядків\n",
        "std_dev_F2 = filtered_df['F2'].std()\n",
        "\n",
        "print(f\"Стандартне відхилення ознаки F2 для об'єктів з позитивними значеннями F3: {std_dev_F2}\")\n"
      ],
      "metadata": {
        "colab": {
          "base_uri": "https://localhost:8080/"
        },
        "id": "Of-D3uSatFGB",
        "outputId": "74cb5219-7d40-4cbf-cd14-eb6626d80fd3"
      },
      "execution_count": null,
      "outputs": [
        {
          "output_type": "stream",
          "name": "stdout",
          "text": [
            "Стандартне відхилення ознаки F2 для об'єктів з позитивними значеннями F3: 1.15349061175294\n"
          ]
        }
      ]
    },
    {
      "cell_type": "code",
      "source": [
        "import pandas as pd\n",
        "from scipy.stats import spearmanr\n",
        "# Замініть 'your_file.csv' на шлях до вашого CSV-файлу\n",
        "df = pd.read_csv('data.csv')\n",
        "correlation, p_value = spearmanr(df['F1'], df['F4'])\n",
        "print(f\"Spearman correlation: {correlation}\")\n"
      ],
      "metadata": {
        "colab": {
          "base_uri": "https://localhost:8080/"
        },
        "id": "v8OpoIzVt080",
        "outputId": "2b462cc7-960c-4318-aadb-7c3580e76510"
      },
      "execution_count": null,
      "outputs": [
        {
          "output_type": "stream",
          "name": "stdout",
          "text": [
            "Spearman correlation: -0.08456045604560455\n"
          ]
        }
      ]
    },
    {
      "cell_type": "code",
      "source": [
        "import pandas as pd\n",
        "from scipy.stats import spearmanr\n",
        "\n",
        "# Завантаження даних з CSV-файлу\n",
        "df = pd.read_csv('data.csv')\n",
        "\n",
        "# Визначення ознак для обчислення кореляції\n",
        "feature1 = df['F4']\n",
        "feature2 = df['F2']\n",
        "\n",
        "# Обчислення коефіцієнта кореляції Спірмена\n",
        "correlation, _ = spearmanr(feature1, feature2)\n",
        "\n",
        "print(f\"Коефіцієнт кореляції Спірмена: {correlation}\")\n"
      ],
      "metadata": {
        "colab": {
          "base_uri": "https://localhost:8080/"
        },
        "id": "5MDVeAiSuzUt",
        "outputId": "f612eb4a-0cde-497a-c318-37b0a453fd08"
      },
      "execution_count": null,
      "outputs": [
        {
          "output_type": "stream",
          "name": "stdout",
          "text": [
            "Коефіцієнт кореляції Спірмена: -0.05221722172217221\n"
          ]
        }
      ]
    },
    {
      "cell_type": "code",
      "source": [
        "import pandas as pd\n",
        "\n",
        "# Завантаження даних з CSV-файлу\n",
        "df = pd.read_csv('data.csv')\n",
        "\n",
        "# Розрахунок коефіцієнта кореляції Пірсона між F2 і F3\n",
        "correlation_coefficient = df['F2'].corr(df['F3'])\n",
        "\n",
        "print(f\"Коефіцієнт кореляції Пірсона між F2 і F3: {correlation_coefficient}\")\n"
      ],
      "metadata": {
        "colab": {
          "base_uri": "https://localhost:8080/"
        },
        "id": "mcZ6pC8IvuL-",
        "outputId": "a25ef8d5-97a5-43c8-e239-385da26b6b1b"
      },
      "execution_count": null,
      "outputs": [
        {
          "output_type": "stream",
          "name": "stdout",
          "text": [
            "Коефіцієнт кореляції Пірсона між F2 і F3: -0.34550808520407544\n"
          ]
        }
      ]
    },
    {
      "cell_type": "code",
      "source": [
        "import pandas as pd\n",
        "import numpy as np\n",
        "df = pd.read_csv('data.csv')\n",
        "correlation = df['F1'].corr(df['F3'])\n",
        "print(f'Коефіцієнт кореляції Пірсона між F1 і F3: {correlation}')\n"
      ],
      "metadata": {
        "colab": {
          "base_uri": "https://localhost:8080/"
        },
        "id": "7qgB8w6QwVFF",
        "outputId": "531cb4bc-3b89-43cf-af53-439a3a41e325"
      },
      "execution_count": null,
      "outputs": [
        {
          "output_type": "stream",
          "name": "stdout",
          "text": [
            "Коефіцієнт кореляції Пірсона між F1 і F3: -0.8565259702496179\n"
          ]
        }
      ]
    },
    {
      "cell_type": "code",
      "source": [
        "import numpy as np\n",
        "from sklearn.decomposition import PCA\n",
        "\n",
        "data = np.random.uniform(-10, 10, size=(10, 4))\n",
        "pca = PCA()\n",
        "pca.fit(data)\n",
        "\n",
        "explained_variance_ratio = pca.explained_variance_ratio_\n",
        "cumulative_variance_ratio = np.cumsum(explained_variance_ratio)\n",
        "\n",
        "# Знайти кількість компонент для досягнення 20% втрати інформації\n",
        "num_components = np.argmax(cumulative_variance_ratio >= 0.20) + 1\n",
        "\n",
        "print(\"Кількість компонент:\", num_components)\n"
      ],
      "metadata": {
        "colab": {
          "base_uri": "https://localhost:8080/"
        },
        "id": "ALY4vuPIz6gV",
        "outputId": "f2001896-c1e6-43b0-8263-3e533d3409b0"
      },
      "execution_count": null,
      "outputs": [
        {
          "output_type": "stream",
          "name": "stdout",
          "text": [
            "Кількість компонент: 1\n"
          ]
        }
      ]
    },
    {
      "cell_type": "code",
      "source": [
        "import numpy as np\n",
        "from sklearn.decomposition import PCA\n",
        "\n",
        "data = np.random.uniform(-10, 10, size=(10, 4))\n",
        "pca = PCA()\n",
        "pca.fit(data)\n",
        "\n",
        "explained_variance_ratio_cumsum = np.cumsum(pca.explained_variance_ratio_)\n",
        "num_components_to_retain = np.argmax(explained_variance_ratio_cumsum >= 0.4) + 1\n",
        "num_components_to_retain\n",
        "\n"
      ],
      "metadata": {
        "colab": {
          "base_uri": "https://localhost:8080/"
        },
        "id": "I8Y3O2Lp0Ayk",
        "outputId": "fbf93398-1b13-44c3-9d52-b79fe88e3bae"
      },
      "execution_count": null,
      "outputs": [
        {
          "output_type": "execute_result",
          "data": {
            "text/plain": [
              "1"
            ]
          },
          "metadata": {},
          "execution_count": 19
        }
      ]
    },
    {
      "cell_type": "code",
      "source": [
        "import numpy as np\n",
        "from sklearn.decomposition import PCA\n",
        "\n",
        "data = np.random.uniform(-10, 10, size=(10, 4))\n",
        "pca = PCA()\n",
        "pca.fit(data)\n",
        "\n",
        "explained_variance_ratio_cumsum = np.cumsum(pca.explained_variance_ratio_)\n",
        "num_components_to_retain = np.argmax(explained_variance_ratio_cumsum >= 0.4) + 1\n",
        "\n",
        "print(\"Кількість перших головних компонент для збереження не менше 40% інформації:\", num_components_to_retain)\n"
      ],
      "metadata": {
        "colab": {
          "base_uri": "https://localhost:8080/"
        },
        "id": "CrH8e8D-1qTH",
        "outputId": "75a799b4-5bb2-4df1-c84a-82d0142b375f"
      },
      "execution_count": null,
      "outputs": [
        {
          "output_type": "stream",
          "name": "stdout",
          "text": [
            "Кількість перших головних компонент для збереження не менше 40% інформації: 1\n"
          ]
        }
      ]
    },
    {
      "cell_type": "code",
      "source": [
        "import numpy as np\n",
        "\n",
        "# Знаходження стандартного відхилення\n",
        "std_dev = np.std(pca.explained_variance_)\n",
        "\n",
        "# Відбір головних компонентів за правилом Кайзера\n",
        "selected_components = np.sum(pca.explained_variance_ > std_dev)\n",
        "\n",
        "print(\"Кількість головних компонентів, що відібрані за правилом Кайзера:\", selected_components)\n"
      ],
      "metadata": {
        "colab": {
          "base_uri": "https://localhost:8080/"
        },
        "id": "FOkd8amj3fG3",
        "outputId": "ff030582-777a-46be-ac77-9a3b946f01c0"
      },
      "execution_count": null,
      "outputs": [
        {
          "output_type": "stream",
          "name": "stdout",
          "text": [
            "Кількість головних компонентів, що відібрані за правилом Кайзера: 3\n"
          ]
        }
      ]
    },
    {
      "cell_type": "code",
      "source": [
        "import numpy as np d"
      ],
      "metadata": {
        "id": "48otuGQOp2qo"
      },
      "execution_count": null,
      "outputs": []
    },
    {
      "cell_type": "code",
      "source": [
        "explained_variance = pca.explained_variance_\n",
        "num_components_kaiser_rule = sum(explained_variance > 1)\n",
        "print(\"Кількість компонентів за правилом Кайзера:\", num_components_kaiser_rule)\n"
      ],
      "metadata": {
        "colab": {
          "base_uri": "https://localhost:8080/"
        },
        "id": "YBxzV6sG3rsV",
        "outputId": "05693e67-9d7f-442c-aaab-9c17fe939678"
      },
      "execution_count": null,
      "outputs": [
        {
          "output_type": "stream",
          "name": "stdout",
          "text": [
            "Кількість компонентів за правилом Кайзера: 4\n"
          ]
        }
      ]
    },
    {
      "cell_type": "code",
      "source": [
        "total_variance = sum(pca.explained_variance_)\n",
        "desired_variance_fraction = 0.8\n",
        "\n",
        "cumulative_variance = 0\n",
        "num_components_to_keep = 0\n",
        "\n",
        "for variance in pca.explained_variance_:\n",
        "    cumulative_variance += variance\n",
        "    num_components_to_keep += 1\n",
        "    if cumulative_variance / total_variance >= desired_variance_fraction:\n",
        "        break\n",
        "\n",
        "print(\"Кількість перших головних компонентів для збереження 80% дисперсії:\", num_components_to_keep)\n"
      ],
      "metadata": {
        "colab": {
          "base_uri": "https://localhost:8080/"
        },
        "id": "YtAjw8kF3zeT",
        "outputId": "e5ed574a-7e8e-45c3-fe6d-24aa30d803e0"
      },
      "execution_count": null,
      "outputs": [
        {
          "output_type": "stream",
          "name": "stdout",
          "text": [
            "Кількість перших головних компонентів для збереження 80% дисперсії: 3\n"
          ]
        }
      ]
    },
    {
      "cell_type": "code",
      "source": [
        "import pandas as pd\n",
        "\n",
        "# Припустимо, що df - це ваш DataFrame\n",
        "df = pd.DataFrame({\n",
        "    'ID': [1, 2, 3, 4, 5],\n",
        "    'Length': [5.4, 4.5, 6.1, 3.9, 4.9],\n",
        "    'Width': [1.4, 2.4, 1.7, 0.5, 1.2],\n",
        "    'Color': ['red', 'blue', 'green', 'yellow', 'yellow'],\n",
        "    'Class': ['two', 'one', 'one', 'three', 'one']\n",
        "})\n",
        "\n",
        "# Виведемо число груп за категорією 'Color'\n",
        "num_groups = df.groupby('Color').ngroups\n",
        "\n",
        "# Виведемо результат\n",
        "print(num_groups)\n"
      ],
      "metadata": {
        "colab": {
          "base_uri": "https://localhost:8080/"
        },
        "id": "8oUckQBd8dB8",
        "outputId": "ee971dbe-59d6-4f7c-dd3b-e0cef33aaa55"
      },
      "execution_count": null,
      "outputs": [
        {
          "output_type": "stream",
          "name": "stdout",
          "text": [
            "4\n"
          ]
        }
      ]
    },
    {
      "cell_type": "code",
      "source": [
        "import pandas as pd\n",
        "from scipy.stats import spearmanr\n",
        "\n",
        "# Завантаження даних з CSV-файлу\n",
        "df = pd.read_csv('data.csv')\n",
        "\n",
        "# Визначення коефіцієнта кореляції Спірмена між F1 і F4\n",
        "corr, p_value = spearmanr(df['F1'], df['F4'])\n",
        "\n",
        "print(f'Коефіцієнт кореляції Спірмена: {corr}')\n"
      ],
      "metadata": {
        "colab": {
          "base_uri": "https://localhost:8080/"
        },
        "id": "471kZyqrDH5m",
        "outputId": "e42fa1ad-a398-4ed8-b564-7c3a4474e401"
      },
      "execution_count": null,
      "outputs": [
        {
          "output_type": "stream",
          "name": "stdout",
          "text": [
            "Коефіцієнт кореляції Спірмена: -0.08456045604560455\n"
          ]
        }
      ]
    },
    {
      "cell_type": "code",
      "source": [
        "import pandas as pd\n",
        "\n",
        "data1 = {'a': [9, 8, 5], 'b': [3, 2, 4], 'c': [7, 1, 6]}\n",
        "df1 = pd.DataFrame(data1)\n",
        "\n",
        "data2 = {'b': [5, 3, 6], 'c': [2, 4, 8], 'd': [7, 1, 9]}\n",
        "df2 = pd.DataFrame(data2)\n",
        "\n",
        "result = df1 + df2\n",
        "print(result)\n"
      ],
      "metadata": {
        "colab": {
          "base_uri": "https://localhost:8080/"
        },
        "id": "SeHnmtLqHqMX",
        "outputId": "31963a5f-1c5d-4a20-913a-098341081f93"
      },
      "execution_count": null,
      "outputs": [
        {
          "output_type": "stream",
          "name": "stdout",
          "text": [
            "    a   b   c   d\n",
            "0 NaN   8   9 NaN\n",
            "1 NaN   5   5 NaN\n",
            "2 NaN  10  14 NaN\n"
          ]
        }
      ]
    },
    {
      "cell_type": "code",
      "source": [
        "import pandas as pd\n",
        "\n",
        "# Створення таблиць df1 і df2\n",
        "df1 = pd.DataFrame({'a': [9, 8, 5], 'b': [3, 2, 4], 'c': [7, 1, 6]})\n",
        "df2 = pd.DataFrame({'b': [5, 3, 6], 'c': [2, 4, 8], 'd': [7, 1, 9]})\n",
        "\n",
        "# Об'єднання таблиць за відповідними індексами\n",
        "df_sum = df1.add(df2, fill_value=0)\n",
        "\n",
        "# Вивід результату (df1 + df2).iloc[1, 1]\n",
        "result = df_sum.iloc[1, 1]\n",
        "print(result)\n"
      ],
      "metadata": {
        "colab": {
          "base_uri": "https://localhost:8080/"
        },
        "id": "JF2YdVYLI88t",
        "outputId": "9309c5ee-0999-441b-f440-fed1a7a1c15e"
      },
      "execution_count": null,
      "outputs": [
        {
          "output_type": "stream",
          "name": "stdout",
          "text": [
            "5\n"
          ]
        }
      ]
    },
    {
      "cell_type": "code",
      "source": [],
      "metadata": {
        "id": "OH7lhwpRlibI"
      },
      "execution_count": null,
      "outputs": []
    }
  ]
}