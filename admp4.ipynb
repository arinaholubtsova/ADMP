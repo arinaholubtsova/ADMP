{
  "cells": [
    {
      "cell_type": "markdown",
      "metadata": {
        "id": "view-in-github",
        "colab_type": "text"
      },
      "source": [
        "<a href=\"https://colab.research.google.com/github/arinaholubtsova/ADMP/blob/main/admp4.ipynb\" target=\"_parent\"><img src=\"https://colab.research.google.com/assets/colab-badge.svg\" alt=\"Open In Colab\"/></a>"
      ]
    },
    {
      "cell_type": "markdown",
      "source": [
        "**Завдання 2**"
      ],
      "metadata": {
        "id": "JBeBH6sWO-XQ"
      }
    },
    {
      "cell_type": "code",
      "execution_count": null,
      "metadata": {
        "id": "JeP0hZTsNZJ7",
        "outputId": "8a4e9217-567a-40e3-e55d-b7c65822afc0",
        "colab": {
          "base_uri": "https://localhost:8080/",
          "height": 258
        }
      },
      "outputs": [
        {
          "output_type": "execute_result",
          "data": {
            "text/plain": [
              "          make fuel-type   body-style  wheel-base   length    width   height  \\\n",
              "0  alfa-romero       gas  convertible     226.816  432.128  164.096  124.928   \n",
              "1  alfa-romero       gas    hatchback     241.920  438.272  167.680  134.144   \n",
              "2         audi       gas        sedan     409.088  452.096  297.472  139.008   \n",
              "3         audi       gas        sedan     254.464  452.096  169.984  139.008   \n",
              "4         audi       gas        sedan     255.488  453.888  169.728  238.336   \n",
              "\n",
              "   curb-weight engine-type num-of-cylinders engine-size  city-mpg  \\\n",
              "0         2548        dohc             four        2.68        21   \n",
              "1         2823        ohcv              six        3.47        19   \n",
              "2         2337         ohc             four         3.4        44   \n",
              "3         2824         ohc             five         3.4        18   \n",
              "4         2507         ohc             five         3.4        19   \n",
              "\n",
              "   highway-mpg  price  \n",
              "0           27  16500  \n",
              "1           26  16500  \n",
              "2           30  13950  \n",
              "3           22  17450  \n",
              "4           25  15250  "
            ],
            "text/html": [
              "\n",
              "  <div id=\"df-eb1b482e-e966-4bae-9e48-4a36963c342d\" class=\"colab-df-container\">\n",
              "    <div>\n",
              "<style scoped>\n",
              "    .dataframe tbody tr th:only-of-type {\n",
              "        vertical-align: middle;\n",
              "    }\n",
              "\n",
              "    .dataframe tbody tr th {\n",
              "        vertical-align: top;\n",
              "    }\n",
              "\n",
              "    .dataframe thead th {\n",
              "        text-align: right;\n",
              "    }\n",
              "</style>\n",
              "<table border=\"1\" class=\"dataframe\">\n",
              "  <thead>\n",
              "    <tr style=\"text-align: right;\">\n",
              "      <th></th>\n",
              "      <th>make</th>\n",
              "      <th>fuel-type</th>\n",
              "      <th>body-style</th>\n",
              "      <th>wheel-base</th>\n",
              "      <th>length</th>\n",
              "      <th>width</th>\n",
              "      <th>height</th>\n",
              "      <th>curb-weight</th>\n",
              "      <th>engine-type</th>\n",
              "      <th>num-of-cylinders</th>\n",
              "      <th>engine-size</th>\n",
              "      <th>city-mpg</th>\n",
              "      <th>highway-mpg</th>\n",
              "      <th>price</th>\n",
              "    </tr>\n",
              "  </thead>\n",
              "  <tbody>\n",
              "    <tr>\n",
              "      <th>0</th>\n",
              "      <td>alfa-romero</td>\n",
              "      <td>gas</td>\n",
              "      <td>convertible</td>\n",
              "      <td>226.816</td>\n",
              "      <td>432.128</td>\n",
              "      <td>164.096</td>\n",
              "      <td>124.928</td>\n",
              "      <td>2548</td>\n",
              "      <td>dohc</td>\n",
              "      <td>four</td>\n",
              "      <td>2.68</td>\n",
              "      <td>21</td>\n",
              "      <td>27</td>\n",
              "      <td>16500</td>\n",
              "    </tr>\n",
              "    <tr>\n",
              "      <th>1</th>\n",
              "      <td>alfa-romero</td>\n",
              "      <td>gas</td>\n",
              "      <td>hatchback</td>\n",
              "      <td>241.920</td>\n",
              "      <td>438.272</td>\n",
              "      <td>167.680</td>\n",
              "      <td>134.144</td>\n",
              "      <td>2823</td>\n",
              "      <td>ohcv</td>\n",
              "      <td>six</td>\n",
              "      <td>3.47</td>\n",
              "      <td>19</td>\n",
              "      <td>26</td>\n",
              "      <td>16500</td>\n",
              "    </tr>\n",
              "    <tr>\n",
              "      <th>2</th>\n",
              "      <td>audi</td>\n",
              "      <td>gas</td>\n",
              "      <td>sedan</td>\n",
              "      <td>409.088</td>\n",
              "      <td>452.096</td>\n",
              "      <td>297.472</td>\n",
              "      <td>139.008</td>\n",
              "      <td>2337</td>\n",
              "      <td>ohc</td>\n",
              "      <td>four</td>\n",
              "      <td>3.4</td>\n",
              "      <td>44</td>\n",
              "      <td>30</td>\n",
              "      <td>13950</td>\n",
              "    </tr>\n",
              "    <tr>\n",
              "      <th>3</th>\n",
              "      <td>audi</td>\n",
              "      <td>gas</td>\n",
              "      <td>sedan</td>\n",
              "      <td>254.464</td>\n",
              "      <td>452.096</td>\n",
              "      <td>169.984</td>\n",
              "      <td>139.008</td>\n",
              "      <td>2824</td>\n",
              "      <td>ohc</td>\n",
              "      <td>five</td>\n",
              "      <td>3.4</td>\n",
              "      <td>18</td>\n",
              "      <td>22</td>\n",
              "      <td>17450</td>\n",
              "    </tr>\n",
              "    <tr>\n",
              "      <th>4</th>\n",
              "      <td>audi</td>\n",
              "      <td>gas</td>\n",
              "      <td>sedan</td>\n",
              "      <td>255.488</td>\n",
              "      <td>453.888</td>\n",
              "      <td>169.728</td>\n",
              "      <td>238.336</td>\n",
              "      <td>2507</td>\n",
              "      <td>ohc</td>\n",
              "      <td>five</td>\n",
              "      <td>3.4</td>\n",
              "      <td>19</td>\n",
              "      <td>25</td>\n",
              "      <td>15250</td>\n",
              "    </tr>\n",
              "  </tbody>\n",
              "</table>\n",
              "</div>\n",
              "    <div class=\"colab-df-buttons\">\n",
              "\n",
              "  <div class=\"colab-df-container\">\n",
              "    <button class=\"colab-df-convert\" onclick=\"convertToInteractive('df-eb1b482e-e966-4bae-9e48-4a36963c342d')\"\n",
              "            title=\"Convert this dataframe to an interactive table.\"\n",
              "            style=\"display:none;\">\n",
              "\n",
              "  <svg xmlns=\"http://www.w3.org/2000/svg\" height=\"24px\" viewBox=\"0 -960 960 960\">\n",
              "    <path d=\"M120-120v-720h720v720H120Zm60-500h600v-160H180v160Zm220 220h160v-160H400v160Zm0 220h160v-160H400v160ZM180-400h160v-160H180v160Zm440 0h160v-160H620v160ZM180-180h160v-160H180v160Zm440 0h160v-160H620v160Z\"/>\n",
              "  </svg>\n",
              "    </button>\n",
              "\n",
              "  <style>\n",
              "    .colab-df-container {\n",
              "      display:flex;\n",
              "      gap: 12px;\n",
              "    }\n",
              "\n",
              "    .colab-df-convert {\n",
              "      background-color: #E8F0FE;\n",
              "      border: none;\n",
              "      border-radius: 50%;\n",
              "      cursor: pointer;\n",
              "      display: none;\n",
              "      fill: #1967D2;\n",
              "      height: 32px;\n",
              "      padding: 0 0 0 0;\n",
              "      width: 32px;\n",
              "    }\n",
              "\n",
              "    .colab-df-convert:hover {\n",
              "      background-color: #E2EBFA;\n",
              "      box-shadow: 0px 1px 2px rgba(60, 64, 67, 0.3), 0px 1px 3px 1px rgba(60, 64, 67, 0.15);\n",
              "      fill: #174EA6;\n",
              "    }\n",
              "\n",
              "    .colab-df-buttons div {\n",
              "      margin-bottom: 4px;\n",
              "    }\n",
              "\n",
              "    [theme=dark] .colab-df-convert {\n",
              "      background-color: #3B4455;\n",
              "      fill: #D2E3FC;\n",
              "    }\n",
              "\n",
              "    [theme=dark] .colab-df-convert:hover {\n",
              "      background-color: #434B5C;\n",
              "      box-shadow: 0px 1px 3px 1px rgba(0, 0, 0, 0.15);\n",
              "      filter: drop-shadow(0px 1px 2px rgba(0, 0, 0, 0.3));\n",
              "      fill: #FFFFFF;\n",
              "    }\n",
              "  </style>\n",
              "\n",
              "    <script>\n",
              "      const buttonEl =\n",
              "        document.querySelector('#df-eb1b482e-e966-4bae-9e48-4a36963c342d button.colab-df-convert');\n",
              "      buttonEl.style.display =\n",
              "        google.colab.kernel.accessAllowed ? 'block' : 'none';\n",
              "\n",
              "      async function convertToInteractive(key) {\n",
              "        const element = document.querySelector('#df-eb1b482e-e966-4bae-9e48-4a36963c342d');\n",
              "        const dataTable =\n",
              "          await google.colab.kernel.invokeFunction('convertToInteractive',\n",
              "                                                    [key], {});\n",
              "        if (!dataTable) return;\n",
              "\n",
              "        const docLinkHtml = 'Like what you see? Visit the ' +\n",
              "          '<a target=\"_blank\" href=https://colab.research.google.com/notebooks/data_table.ipynb>data table notebook</a>'\n",
              "          + ' to learn more about interactive tables.';\n",
              "        element.innerHTML = '';\n",
              "        dataTable['output_type'] = 'display_data';\n",
              "        await google.colab.output.renderOutput(dataTable, element);\n",
              "        const docLink = document.createElement('div');\n",
              "        docLink.innerHTML = docLinkHtml;\n",
              "        element.appendChild(docLink);\n",
              "      }\n",
              "    </script>\n",
              "  </div>\n",
              "\n",
              "\n",
              "<div id=\"df-82ad1c42-9054-4ae2-bf70-7cb1cc5b815c\">\n",
              "  <button class=\"colab-df-quickchart\" onclick=\"quickchart('df-82ad1c42-9054-4ae2-bf70-7cb1cc5b815c')\"\n",
              "            title=\"Suggest charts\"\n",
              "            style=\"display:none;\">\n",
              "\n",
              "<svg xmlns=\"http://www.w3.org/2000/svg\" height=\"24px\"viewBox=\"0 0 24 24\"\n",
              "     width=\"24px\">\n",
              "    <g>\n",
              "        <path d=\"M19 3H5c-1.1 0-2 .9-2 2v14c0 1.1.9 2 2 2h14c1.1 0 2-.9 2-2V5c0-1.1-.9-2-2-2zM9 17H7v-7h2v7zm4 0h-2V7h2v10zm4 0h-2v-4h2v4z\"/>\n",
              "    </g>\n",
              "</svg>\n",
              "  </button>\n",
              "\n",
              "<style>\n",
              "  .colab-df-quickchart {\n",
              "      --bg-color: #E8F0FE;\n",
              "      --fill-color: #1967D2;\n",
              "      --hover-bg-color: #E2EBFA;\n",
              "      --hover-fill-color: #174EA6;\n",
              "      --disabled-fill-color: #AAA;\n",
              "      --disabled-bg-color: #DDD;\n",
              "  }\n",
              "\n",
              "  [theme=dark] .colab-df-quickchart {\n",
              "      --bg-color: #3B4455;\n",
              "      --fill-color: #D2E3FC;\n",
              "      --hover-bg-color: #434B5C;\n",
              "      --hover-fill-color: #FFFFFF;\n",
              "      --disabled-bg-color: #3B4455;\n",
              "      --disabled-fill-color: #666;\n",
              "  }\n",
              "\n",
              "  .colab-df-quickchart {\n",
              "    background-color: var(--bg-color);\n",
              "    border: none;\n",
              "    border-radius: 50%;\n",
              "    cursor: pointer;\n",
              "    display: none;\n",
              "    fill: var(--fill-color);\n",
              "    height: 32px;\n",
              "    padding: 0;\n",
              "    width: 32px;\n",
              "  }\n",
              "\n",
              "  .colab-df-quickchart:hover {\n",
              "    background-color: var(--hover-bg-color);\n",
              "    box-shadow: 0 1px 2px rgba(60, 64, 67, 0.3), 0 1px 3px 1px rgba(60, 64, 67, 0.15);\n",
              "    fill: var(--button-hover-fill-color);\n",
              "  }\n",
              "\n",
              "  .colab-df-quickchart-complete:disabled,\n",
              "  .colab-df-quickchart-complete:disabled:hover {\n",
              "    background-color: var(--disabled-bg-color);\n",
              "    fill: var(--disabled-fill-color);\n",
              "    box-shadow: none;\n",
              "  }\n",
              "\n",
              "  .colab-df-spinner {\n",
              "    border: 2px solid var(--fill-color);\n",
              "    border-color: transparent;\n",
              "    border-bottom-color: var(--fill-color);\n",
              "    animation:\n",
              "      spin 1s steps(1) infinite;\n",
              "  }\n",
              "\n",
              "  @keyframes spin {\n",
              "    0% {\n",
              "      border-color: transparent;\n",
              "      border-bottom-color: var(--fill-color);\n",
              "      border-left-color: var(--fill-color);\n",
              "    }\n",
              "    20% {\n",
              "      border-color: transparent;\n",
              "      border-left-color: var(--fill-color);\n",
              "      border-top-color: var(--fill-color);\n",
              "    }\n",
              "    30% {\n",
              "      border-color: transparent;\n",
              "      border-left-color: var(--fill-color);\n",
              "      border-top-color: var(--fill-color);\n",
              "      border-right-color: var(--fill-color);\n",
              "    }\n",
              "    40% {\n",
              "      border-color: transparent;\n",
              "      border-right-color: var(--fill-color);\n",
              "      border-top-color: var(--fill-color);\n",
              "    }\n",
              "    60% {\n",
              "      border-color: transparent;\n",
              "      border-right-color: var(--fill-color);\n",
              "    }\n",
              "    80% {\n",
              "      border-color: transparent;\n",
              "      border-right-color: var(--fill-color);\n",
              "      border-bottom-color: var(--fill-color);\n",
              "    }\n",
              "    90% {\n",
              "      border-color: transparent;\n",
              "      border-bottom-color: var(--fill-color);\n",
              "    }\n",
              "  }\n",
              "</style>\n",
              "\n",
              "  <script>\n",
              "    async function quickchart(key) {\n",
              "      const quickchartButtonEl =\n",
              "        document.querySelector('#' + key + ' button');\n",
              "      quickchartButtonEl.disabled = true;  // To prevent multiple clicks.\n",
              "      quickchartButtonEl.classList.add('colab-df-spinner');\n",
              "      try {\n",
              "        const charts = await google.colab.kernel.invokeFunction(\n",
              "            'suggestCharts', [key], {});\n",
              "      } catch (error) {\n",
              "        console.error('Error during call to suggestCharts:', error);\n",
              "      }\n",
              "      quickchartButtonEl.classList.remove('colab-df-spinner');\n",
              "      quickchartButtonEl.classList.add('colab-df-quickchart-complete');\n",
              "    }\n",
              "    (() => {\n",
              "      let quickchartButtonEl =\n",
              "        document.querySelector('#df-82ad1c42-9054-4ae2-bf70-7cb1cc5b815c button');\n",
              "      quickchartButtonEl.style.display =\n",
              "        google.colab.kernel.accessAllowed ? 'block' : 'none';\n",
              "    })();\n",
              "  </script>\n",
              "</div>\n",
              "    </div>\n",
              "  </div>\n"
            ]
          },
          "metadata": {},
          "execution_count": 1
        }
      ],
      "source": [
        "import pandas as pd\n",
        "\n",
        "df = pd.read_csv('cars.csv')\n",
        "df.head()"
      ]
    },
    {
      "cell_type": "markdown",
      "source": [
        "**Завдання 3**"
      ],
      "metadata": {
        "id": "oIlAISbFQlIX"
      }
    },
    {
      "cell_type": "code",
      "execution_count": null,
      "metadata": {
        "id": "ZLfLoKYNNZJ8",
        "outputId": "b2c8b413-76c5-4cd9-c12c-6d215ff7b86a",
        "colab": {
          "base_uri": "https://localhost:8080/"
        }
      },
      "outputs": [
        {
          "output_type": "stream",
          "name": "stdout",
          "text": [
            "<class 'pandas.core.frame.DataFrame'>\n",
            "RangeIndex: 204 entries, 0 to 203\n",
            "Data columns (total 14 columns):\n",
            " #   Column            Non-Null Count  Dtype  \n",
            "---  ------            --------------  -----  \n",
            " 0   make              204 non-null    object \n",
            " 1   fuel-type         204 non-null    object \n",
            " 2   body-style        204 non-null    object \n",
            " 3   wheel-base        204 non-null    float64\n",
            " 4   length            204 non-null    float64\n",
            " 5   width             204 non-null    float64\n",
            " 6   height            204 non-null    float64\n",
            " 7   curb-weight       204 non-null    int64  \n",
            " 8   engine-type       204 non-null    object \n",
            " 9   num-of-cylinders  204 non-null    object \n",
            " 10  engine-size       204 non-null    object \n",
            " 11  city-mpg          204 non-null    int64  \n",
            " 12  highway-mpg       204 non-null    int64  \n",
            " 13  price             204 non-null    object \n",
            "dtypes: float64(4), int64(3), object(7)\n",
            "memory usage: 22.4+ KB\n"
          ]
        },
        {
          "output_type": "execute_result",
          "data": {
            "text/plain": [
              "(None, False, \"could not convert string to float: '?'\")"
            ]
          },
          "metadata": {},
          "execution_count": 2
        }
      ],
      "source": [
        "try:\n",
        "    df_info = df.info()\n",
        "    df['price'] = df['price'].astype('float64')\n",
        "    conversion_successful = True\n",
        "except Exception as e:\n",
        "    conversion_successful = False\n",
        "    error_message = str(e)\n",
        "\n",
        "df_info, conversion_successful, error_message if not conversion_successful else None\n"
      ]
    },
    {
      "cell_type": "markdown",
      "source": [
        "**Завдання 4**"
      ],
      "metadata": {
        "id": "m9pe113dQqYG"
      }
    },
    {
      "cell_type": "code",
      "execution_count": null,
      "metadata": {
        "id": "jYCqrhH0NZJ8",
        "outputId": "48eeb362-392e-47d4-c64e-fd86eadca94a",
        "colab": {
          "base_uri": "https://localhost:8080/"
        }
      },
      "outputs": [
        {
          "output_type": "execute_result",
          "data": {
            "text/plain": [
              "(True, None)"
            ]
          },
          "metadata": {},
          "execution_count": 3
        }
      ],
      "source": [
        "import numpy as np\n",
        "\n",
        "df['price'].replace('?', np.nan, inplace=True)\n",
        "\n",
        "try:\n",
        "    df['price'] = df['price'].astype('float64')\n",
        "    conversion_successful_after_replacement = True\n",
        "except Exception as e:\n",
        "    conversion_successful_after_replacement = False\n",
        "    error_message_after_replacement = str(e)\n",
        "\n",
        "conversion_successful_after_replacement, error_message_after_replacement if not conversion_successful_after_replacement else None\n"
      ]
    },
    {
      "cell_type": "markdown",
      "source": [
        "**Завдання 5**"
      ],
      "metadata": {
        "id": "FqWlRigDQu3L"
      }
    },
    {
      "cell_type": "code",
      "execution_count": null,
      "metadata": {
        "id": "KOHsf3qONZJ8",
        "outputId": "7d073e60-cecc-4f5c-ce47-215f98614674",
        "colab": {
          "base_uri": "https://localhost:8080/"
        }
      },
      "outputs": [
        {
          "output_type": "stream",
          "name": "stdout",
          "text": [
            "<class 'pandas.core.frame.DataFrame'>\n",
            "RangeIndex: 204 entries, 0 to 203\n",
            "Data columns (total 14 columns):\n",
            " #   Column            Non-Null Count  Dtype  \n",
            "---  ------            --------------  -----  \n",
            " 0   make              204 non-null    object \n",
            " 1   fuel-type         204 non-null    object \n",
            " 2   body-style        204 non-null    object \n",
            " 3   wheel-base        204 non-null    float64\n",
            " 4   length            204 non-null    float64\n",
            " 5   width             204 non-null    float64\n",
            " 6   height            204 non-null    float64\n",
            " 7   curb-weight       204 non-null    int64  \n",
            " 8   engine-type       204 non-null    object \n",
            " 9   num-of-cylinders  204 non-null    object \n",
            " 10  engine-size       204 non-null    object \n",
            " 11  city-mpg          204 non-null    int64  \n",
            " 12  highway-mpg       204 non-null    int64  \n",
            " 13  price             200 non-null    float64\n",
            "dtypes: float64(5), int64(3), object(6)\n",
            "memory usage: 22.4+ KB\n"
          ]
        },
        {
          "output_type": "execute_result",
          "data": {
            "text/plain": [
              "(None,\n",
              "        wheel-base       length       width      height  curb-weight  \\\n",
              " count  204.000000   204.000000  204.000000  204.000000   204.000000   \n",
              " mean   254.487843   450.049255  170.754510  141.111216  2555.602941   \n",
              " std     34.184050    92.516811   15.705723   39.315112   521.960820   \n",
              " min     87.808000    50.432000  154.368000   14.848000  1488.000000   \n",
              " 25%    241.920000   425.728000  164.288000  133.120000  2145.000000   \n",
              " 50%    248.192000   443.392000  167.680000  138.496000  2414.000000   \n",
              " 75%    262.144000   473.856000  171.264000  142.592000  2939.250000   \n",
              " max    520.960000  1220.608000  297.472000  390.656000  4066.000000   \n",
              " \n",
              "          city-mpg  highway-mpg         price  \n",
              " count  204.000000   204.000000    200.000000  \n",
              " mean    25.372549    30.769608  13205.690000  \n",
              " std      7.596242     6.898337   7966.982558  \n",
              " min      5.000000    16.000000   5118.000000  \n",
              " 25%     19.000000    25.000000   7775.000000  \n",
              " 50%     24.000000    30.000000  10270.000000  \n",
              " 75%     30.000000    34.500000  16500.750000  \n",
              " max     61.000000    54.000000  45400.000000  )"
            ]
          },
          "metadata": {},
          "execution_count": 4
        }
      ],
      "source": [
        "df_info_after_conversion = df.info()\n",
        "df_description = df.describe()\n",
        "\n",
        "df_info_after_conversion, df_description\n"
      ]
    },
    {
      "cell_type": "markdown",
      "metadata": {
        "id": "EOl9qJoTNZJ9"
      },
      "source": [
        "Ознаки, де можуть бути присутніми викиди, можна визначити, дивлячись на різницю між 75-м процентилем (Q3) і максимальним значенням, а також на різницю між мінімальним значенням і 25-м процентилем (Q1) - якщо ці різниці великі, це може свідчити про наявність викидів"
      ]
    },
    {
      "cell_type": "markdown",
      "source": [
        "**Завдання 6**"
      ],
      "metadata": {
        "id": "Amh_3RuIQy_P"
      }
    },
    {
      "cell_type": "code",
      "execution_count": null,
      "metadata": {
        "id": "9KDxvTcbNZJ9",
        "outputId": "fea75a5e-d026-4f9c-e24d-8c59664dc23d",
        "colab": {
          "base_uri": "https://localhost:8080/",
          "height": 526
        }
      },
      "outputs": [
        {
          "output_type": "display_data",
          "data": {
            "text/plain": [
              "<Figure size 1000x600 with 1 Axes>"
            ],
            "image/png": "[encoded data removed]"
          },
          "metadata": {}
        }
      ],
      "source": [
        "import seaborn as sns\n",
        "import matplotlib.pyplot as plt\n",
        "\n",
        "plt.figure(figsize=(10, 6))\n",
        "sns.stripplot(data=df, y='width', jitter=True, color='blue', alpha=0.5)\n",
        "plt.title('Cмугаста діаграма')\n",
        "plt.ylabel('Width')\n",
        "plt.show()\n"
      ]
    },
    {
      "cell_type": "markdown",
      "metadata": {
        "id": "sKrVdf8MNZJ9"
      },
      "source": [
        "Зі смугової діаграми видно, що є значення, яке значно перевищує решту, і його можна вважати викидом (240-300)"
      ]
    },
    {
      "cell_type": "markdown",
      "source": [
        "**Завдання 7**"
      ],
      "metadata": {
        "id": "0shhrikrQ4qf"
      }
    },
    {
      "cell_type": "code",
      "execution_count": null,
      "metadata": {
        "id": "QJ6vJLaoNZJ-",
        "outputId": "3910d783-ac45-4e70-baaa-cd7b62db3485",
        "colab": {
          "base_uri": "https://localhost:8080/",
          "height": 1000
        }
      },
      "outputs": [
        {
          "output_type": "display_data",
          "data": {
            "text/plain": [
              "<Figure size 1000x600 with 1 Axes>"
            ],
            "image/png": "[encoded data removed]"
          },
          "metadata": {}
        },
        {
          "output_type": "display_data",
          "data": {
            "text/plain": [
              "<Figure size 1000x600 with 1 Axes>"
            ],
            "image/png": "[encoded data removed]"
          },
          "metadata": {}
        }
      ],
      "source": [
        "df_1 = df.copy()\n",
        "\n",
        "plt.figure(figsize=(10, 6))\n",
        "sns.boxplot(df_1['width'], color='lightblue')\n",
        "plt.title('Діаграма розмаху')\n",
        "plt.xlabel('Width')\n",
        "plt.show()\n",
        "\n",
        "Q1 = df_1['width'].quantile(0.25)\n",
        "Q3 = df_1['width'].quantile(0.75)\n",
        "IQR = Q3 - Q1\n",
        "lower_bound = Q1 - 1.5 * IQR\n",
        "upper_bound = Q3 + 1.5 * IQR\n",
        "\n",
        "df_1['width'] = df_1['width'].apply(lambda x: np.nan if x < lower_bound or x > upper_bound else x)\n",
        "\n",
        "plt.figure(figsize=(10, 6))\n",
        "sns.boxplot(df_1['width'], color='lightgreen')\n",
        "plt.title('Діаграма розмаху')\n",
        "plt.xlabel('Width')\n",
        "plt.show()\n"
      ]
    },
    {
      "cell_type": "markdown",
      "metadata": {
        "id": "4IdUTqkNNZJ-"
      },
      "source": [
        "На початковій діаграмі розмаху ми спостерігали чіткий викид у width.\n",
        "Після усунення викидів і заміни їх на NaN, оновлена діаграма більше не відображає викидів. Тепер вуса на діаграмі представляють діапазон, в межах якого лежить більшість даних."
      ]
    },
    {
      "cell_type": "markdown",
      "source": [
        "**Завдання 8**"
      ],
      "metadata": {
        "id": "l0lBG89JQ86R"
      }
    },
    {
      "cell_type": "code",
      "execution_count": null,
      "metadata": {
        "id": "lHz1j-09NZJ-"
      },
      "outputs": [],
      "source": [
        "def hempel_filter(data_column):\n",
        "    median_value = data_column.median()\n",
        "    absolute_deviations = (data_column - median_value).abs()\n",
        "    median_absolute_deviation = absolute_deviations.median()\n",
        "    outlier_indices = absolute_deviations > 3 * median_absolute_deviation\n",
        "    data_column[outlier_indices] = np.nan\n",
        "\n",
        "    return data_column\n"
      ]
    },
    {
      "cell_type": "markdown",
      "source": [
        "**Завдання 9**"
      ],
      "metadata": {
        "id": "WW5cS51LQ_55"
      }
    },
    {
      "cell_type": "code",
      "execution_count": null,
      "metadata": {
        "id": "3pB3E0O3NZJ-",
        "outputId": "6ff0702c-0ea7-45b1-c06d-e81ec6e13fea",
        "colab": {
          "base_uri": "https://localhost:8080/"
        }
      },
      "outputs": [
        {
          "output_type": "stream",
          "name": "stderr",
          "text": [
            "<ipython-input-7-dd1613bdfadf>:6: SettingWithCopyWarning: \n",
            "A value is trying to be set on a copy of a slice from a DataFrame\n",
            "\n",
            "See the caveats in the documentation: https://pandas.pydata.org/pandas-docs/stable/user_guide/indexing.html#returning-a-view-versus-a-copy\n",
            "  data_column[outlier_indices] = np.nan\n"
          ]
        },
        {
          "output_type": "execute_result",
          "data": {
            "text/plain": [
              "2      297.472\n",
              "5      182.784\n",
              "6      182.784\n",
              "7      182.784\n",
              "13     273.664\n",
              "16     181.504\n",
              "17     154.368\n",
              "34     240.640\n",
              "48     180.736\n",
              "66     179.968\n",
              "67     179.968\n",
              "68     179.968\n",
              "69     183.552\n",
              "70     183.552\n",
              "71     180.480\n",
              "72     183.552\n",
              "73     184.320\n",
              "128    185.088\n",
              "199    278.784\n",
              "Name: width, dtype: float64"
            ]
          },
          "metadata": {},
          "execution_count": 8
        }
      ],
      "source": [
        "df_2 = df.copy()\n",
        "df_2['width'] = hempel_filter(df_2['width'])\n",
        "outliers_hempel = df['width'][df['width'] != df_2['width']]\n",
        "outliers_hempel"
      ]
    },
    {
      "cell_type": "markdown",
      "source": [
        "**Завдання 10**"
      ],
      "metadata": {
        "id": "VuwzEbitREuA"
      }
    },
    {
      "cell_type": "code",
      "execution_count": null,
      "metadata": {
        "id": "iKghbRc3NZJ-",
        "outputId": "b17523aa-f46f-49c3-9908-2b6ed0ddf196",
        "colab": {
          "base_uri": "https://localhost:8080/"
        }
      },
      "outputs": [
        {
          "output_type": "execute_result",
          "data": {
            "text/plain": [
              "2      297.472\n",
              "13     273.664\n",
              "34     240.640\n",
              "199    278.784\n",
              "Name: width, dtype: float64"
            ]
          },
          "metadata": {},
          "execution_count": 9
        }
      ],
      "source": [
        "from scipy import stats\n",
        "\n",
        "df_3 = df.copy()\n",
        "z_scores = stats.zscore(df_3['width'])\n",
        "df_3['width'] = df_3['width'].where((z_scores > -3) & (z_scores < 3), np.nan)\n",
        "\n",
        "outliers_zscore = df['width'][df['width'] != df_3['width']]\n",
        "outliers_zscore\n"
      ]
    },
    {
      "cell_type": "markdown",
      "metadata": {
        "id": "Luo01Z2nNZJ-"
      },
      "source": [
        "Ці значення помітно відрізняються від тих, що були визначені за допомогою фільтра Гемпела"
      ]
    },
    {
      "cell_type": "markdown",
      "source": [
        "**Завдання 11**"
      ],
      "metadata": {
        "id": "g8OMBGYPRIV9"
      }
    },
    {
      "cell_type": "code",
      "execution_count": null,
      "metadata": {
        "id": "GbWuniE3NZJ-",
        "outputId": "f85a90af-2bd4-4371-dbd1-334a8b3f1ced",
        "colab": {
          "base_uri": "https://localhost:8080/",
          "height": 860
        }
      },
      "outputs": [
        {
          "output_type": "display_data",
          "data": {
            "text/plain": [
              "<Figure size 1500x1000 with 4 Axes>"
            ],
            "image/png": "[encoded data removed]"
          },
          "metadata": {}
        },
        {
          "output_type": "execute_result",
          "data": {
            "text/plain": [
              "({'Оригінальний': 167.68,\n",
              "  'Смугастий': 167.424,\n",
              "  'Хемпеля': 167.424,\n",
              "  'Z-показник': 167.68},\n",
              " {'Оригінальний': 170.75450980392156,\n",
              "  'Смугастий': 168.09866666666665,\n",
              "  'Хемпеля': 167.7727135135135,\n",
              "  'Z-показник': 168.71679999999998})"
            ]
          },
          "metadata": {},
          "execution_count": 10
        }
      ],
      "source": [
        "medians = {\n",
        "    'Оригінальний': df['width'].median(),\n",
        "    'Смугастий': df_1['width'].median(),\n",
        "    'Хемпеля': df_2['width'].median(),\n",
        "    'Z-показник': df_3['width'].median()\n",
        "}\n",
        "\n",
        "means = {\n",
        "    'Оригінальний': df['width'].mean(),\n",
        "    'Смугастий': df_1['width'].mean(),\n",
        "    'Хемпеля': df_2['width'].mean(),\n",
        "    'Z-показник': df_3['width'].mean()\n",
        "}\n",
        "\n",
        "plt.figure(figsize=(15, 10))\n",
        "\n",
        "plt.subplot(2, 2, 1)\n",
        "sns.stripplot(data=df, y='width', jitter=True, color='blue', alpha=0.5)\n",
        "plt.title('Оригінальний датасет')\n",
        "plt.ylabel('Width')\n",
        "\n",
        "plt.subplot(2, 2, 2)\n",
        "sns.stripplot(data=df_1, y='width', jitter=True, color='red', alpha=0.5)\n",
        "plt.title('Смугастий метод')\n",
        "plt.ylabel('Width')\n",
        "\n",
        "plt.subplot(2, 2, 3)\n",
        "sns.stripplot(data=df_2, y='width', jitter=True, color='green', alpha=0.5)\n",
        "plt.title('Фільтр Хемпеля')\n",
        "plt.ylabel('Width')\n",
        "\n",
        "plt.subplot(2, 2, 4)\n",
        "sns.stripplot(data=df_3, y='width', jitter=True, color='purple', alpha=0.5)\n",
        "plt.title('Z-показник')\n",
        "plt.ylabel('Width')\n",
        "\n",
        "plt.tight_layout()\n",
        "plt.show()\n",
        "\n",
        "medians, means\n"
      ]
    },
    {
      "cell_type": "markdown",
      "source": [
        "**Завдання 12**"
      ],
      "metadata": {
        "id": "pqPo6vVDRM7W"
      }
    },
    {
      "cell_type": "code",
      "execution_count": null,
      "metadata": {
        "id": "qD1ngP-gNZJ_",
        "outputId": "b00d7145-329a-4670-de54-c265d150b7b1",
        "colab": {
          "base_uri": "https://localhost:8080/",
          "height": 175
        }
      },
      "outputs": [
        {
          "output_type": "execute_result",
          "data": {
            "text/plain": [
              "          Метод  .median()  np.median()\n",
              "0  Оригінальний    167.680      167.680\n",
              "1     Смугастий    167.424      167.424\n",
              "2       Хемпеля    167.424      167.424\n",
              "3    Z-показник    167.680      167.680"
            ],
            "text/html": [
              "\n",
              "  <div id=\"df-84f5978a-cce4-436c-8e26-39a82954b727\" class=\"colab-df-container\">\n",
              "    <div>\n",
              "<style scoped>\n",
              "    .dataframe tbody tr th:only-of-type {\n",
              "        vertical-align: middle;\n",
              "    }\n",
              "\n",
              "    .dataframe tbody tr th {\n",
              "        vertical-align: top;\n",
              "    }\n",
              "\n",
              "    .dataframe thead th {\n",
              "        text-align: right;\n",
              "    }\n",
              "</style>\n",
              "<table border=\"1\" class=\"dataframe\">\n",
              "  <thead>\n",
              "    <tr style=\"text-align: right;\">\n",
              "      <th></th>\n",
              "      <th>Метод</th>\n",
              "      <th>.median()</th>\n",
              "      <th>np.median()</th>\n",
              "    </tr>\n",
              "  </thead>\n",
              "  <tbody>\n",
              "    <tr>\n",
              "      <th>0</th>\n",
              "      <td>Оригінальний</td>\n",
              "      <td>167.680</td>\n",
              "      <td>167.680</td>\n",
              "    </tr>\n",
              "    <tr>\n",
              "      <th>1</th>\n",
              "      <td>Смугастий</td>\n",
              "      <td>167.424</td>\n",
              "      <td>167.424</td>\n",
              "    </tr>\n",
              "    <tr>\n",
              "      <th>2</th>\n",
              "      <td>Хемпеля</td>\n",
              "      <td>167.424</td>\n",
              "      <td>167.424</td>\n",
              "    </tr>\n",
              "    <tr>\n",
              "      <th>3</th>\n",
              "      <td>Z-показник</td>\n",
              "      <td>167.680</td>\n",
              "      <td>167.680</td>\n",
              "    </tr>\n",
              "  </tbody>\n",
              "</table>\n",
              "</div>\n",
              "    <div class=\"colab-df-buttons\">\n",
              "\n",
              "  <div class=\"colab-df-container\">\n",
              "    <button class=\"colab-df-convert\" onclick=\"convertToInteractive('df-84f5978a-cce4-436c-8e26-39a82954b727')\"\n",
              "            title=\"Convert this dataframe to an interactive table.\"\n",
              "            style=\"display:none;\">\n",
              "\n",
              "  <svg xmlns=\"http://www.w3.org/2000/svg\" height=\"24px\" viewBox=\"0 -960 960 960\">\n",
              "    <path d=\"M120-120v-720h720v720H120Zm60-500h600v-160H180v160Zm220 220h160v-160H400v160Zm0 220h160v-160H400v160ZM180-400h160v-160H180v160Zm440 0h160v-160H620v160ZM180-180h160v-160H180v160Zm440 0h160v-160H620v160Z\"/>\n",
              "  </svg>\n",
              "    </button>\n",
              "\n",
              "  <style>\n",
              "    .colab-df-container {\n",
              "      display:flex;\n",
              "      gap: 12px;\n",
              "    }\n",
              "\n",
              "    .colab-df-convert {\n",
              "      background-color: #E8F0FE;\n",
              "      border: none;\n",
              "      border-radius: 50%;\n",
              "      cursor: pointer;\n",
              "      display: none;\n",
              "      fill: #1967D2;\n",
              "      height: 32px;\n",
              "      padding: 0 0 0 0;\n",
              "      width: 32px;\n",
              "    }\n",
              "\n",
              "    .colab-df-convert:hover {\n",
              "      background-color: #E2EBFA;\n",
              "      box-shadow: 0px 1px 2px rgba(60, 64, 67, 0.3), 0px 1px 3px 1px rgba(60, 64, 67, 0.15);\n",
              "      fill: #174EA6;\n",
              "    }\n",
              "\n",
              "    .colab-df-buttons div {\n",
              "      margin-bottom: 4px;\n",
              "    }\n",
              "\n",
              "    [theme=dark] .colab-df-convert {\n",
              "      background-color: #3B4455;\n",
              "      fill: #D2E3FC;\n",
              "    }\n",
              "\n",
              "    [theme=dark] .colab-df-convert:hover {\n",
              "      background-color: #434B5C;\n",
              "      box-shadow: 0px 1px 3px 1px rgba(0, 0, 0, 0.15);\n",
              "      filter: drop-shadow(0px 1px 2px rgba(0, 0, 0, 0.3));\n",
              "      fill: #FFFFFF;\n",
              "    }\n",
              "  </style>\n",
              "\n",
              "    <script>\n",
              "      const buttonEl =\n",
              "        document.querySelector('#df-84f5978a-cce4-436c-8e26-39a82954b727 button.colab-df-convert');\n",
              "      buttonEl.style.display =\n",
              "        google.colab.kernel.accessAllowed ? 'block' : 'none';\n",
              "\n",
              "      async function convertToInteractive(key) {\n",
              "        const element = document.querySelector('#df-84f5978a-cce4-436c-8e26-39a82954b727');\n",
              "        const dataTable =\n",
              "          await google.colab.kernel.invokeFunction('convertToInteractive',\n",
              "                                                    [key], {});\n",
              "        if (!dataTable) return;\n",
              "\n",
              "        const docLinkHtml = 'Like what you see? Visit the ' +\n",
              "          '<a target=\"_blank\" href=https://colab.research.google.com/notebooks/data_table.ipynb>data table notebook</a>'\n",
              "          + ' to learn more about interactive tables.';\n",
              "        element.innerHTML = '';\n",
              "        dataTable['output_type'] = 'display_data';\n",
              "        await google.colab.output.renderOutput(dataTable, element);\n",
              "        const docLink = document.createElement('div');\n",
              "        docLink.innerHTML = docLinkHtml;\n",
              "        element.appendChild(docLink);\n",
              "      }\n",
              "    </script>\n",
              "  </div>\n",
              "\n",
              "\n",
              "<div id=\"df-08f562fb-1d7f-475d-ad8f-04d786b65ea8\">\n",
              "  <button class=\"colab-df-quickchart\" onclick=\"quickchart('df-08f562fb-1d7f-475d-ad8f-04d786b65ea8')\"\n",
              "            title=\"Suggest charts\"\n",
              "            style=\"display:none;\">\n",
              "\n",
              "<svg xmlns=\"http://www.w3.org/2000/svg\" height=\"24px\"viewBox=\"0 0 24 24\"\n",
              "     width=\"24px\">\n",
              "    <g>\n",
              "        <path d=\"M19 3H5c-1.1 0-2 .9-2 2v14c0 1.1.9 2 2 2h14c1.1 0 2-.9 2-2V5c0-1.1-.9-2-2-2zM9 17H7v-7h2v7zm4 0h-2V7h2v10zm4 0h-2v-4h2v4z\"/>\n",
              "    </g>\n",
              "</svg>\n",
              "  </button>\n",
              "\n",
              "<style>\n",
              "  .colab-df-quickchart {\n",
              "      --bg-color: #E8F0FE;\n",
              "      --fill-color: #1967D2;\n",
              "      --hover-bg-color: #E2EBFA;\n",
              "      --hover-fill-color: #174EA6;\n",
              "      --disabled-fill-color: #AAA;\n",
              "      --disabled-bg-color: #DDD;\n",
              "  }\n",
              "\n",
              "  [theme=dark] .colab-df-quickchart {\n",
              "      --bg-color: #3B4455;\n",
              "      --fill-color: #D2E3FC;\n",
              "      --hover-bg-color: #434B5C;\n",
              "      --hover-fill-color: #FFFFFF;\n",
              "      --disabled-bg-color: #3B4455;\n",
              "      --disabled-fill-color: #666;\n",
              "  }\n",
              "\n",
              "  .colab-df-quickchart {\n",
              "    background-color: var(--bg-color);\n",
              "    border: none;\n",
              "    border-radius: 50%;\n",
              "    cursor: pointer;\n",
              "    display: none;\n",
              "    fill: var(--fill-color);\n",
              "    height: 32px;\n",
              "    padding: 0;\n",
              "    width: 32px;\n",
              "  }\n",
              "\n",
              "  .colab-df-quickchart:hover {\n",
              "    background-color: var(--hover-bg-color);\n",
              "    box-shadow: 0 1px 2px rgba(60, 64, 67, 0.3), 0 1px 3px 1px rgba(60, 64, 67, 0.15);\n",
              "    fill: var(--button-hover-fill-color);\n",
              "  }\n",
              "\n",
              "  .colab-df-quickchart-complete:disabled,\n",
              "  .colab-df-quickchart-complete:disabled:hover {\n",
              "    background-color: var(--disabled-bg-color);\n",
              "    fill: var(--disabled-fill-color);\n",
              "    box-shadow: none;\n",
              "  }\n",
              "\n",
              "  .colab-df-spinner {\n",
              "    border: 2px solid var(--fill-color);\n",
              "    border-color: transparent;\n",
              "    border-bottom-color: var(--fill-color);\n",
              "    animation:\n",
              "      spin 1s steps(1) infinite;\n",
              "  }\n",
              "\n",
              "  @keyframes spin {\n",
              "    0% {\n",
              "      border-color: transparent;\n",
              "      border-bottom-color: var(--fill-color);\n",
              "      border-left-color: var(--fill-color);\n",
              "    }\n",
              "    20% {\n",
              "      border-color: transparent;\n",
              "      border-left-color: var(--fill-color);\n",
              "      border-top-color: var(--fill-color);\n",
              "    }\n",
              "    30% {\n",
              "      border-color: transparent;\n",
              "      border-left-color: var(--fill-color);\n",
              "      border-top-color: var(--fill-color);\n",
              "      border-right-color: var(--fill-color);\n",
              "    }\n",
              "    40% {\n",
              "      border-color: transparent;\n",
              "      border-right-color: var(--fill-color);\n",
              "      border-top-color: var(--fill-color);\n",
              "    }\n",
              "    60% {\n",
              "      border-color: transparent;\n",
              "      border-right-color: var(--fill-color);\n",
              "    }\n",
              "    80% {\n",
              "      border-color: transparent;\n",
              "      border-right-color: var(--fill-color);\n",
              "      border-bottom-color: var(--fill-color);\n",
              "    }\n",
              "    90% {\n",
              "      border-color: transparent;\n",
              "      border-bottom-color: var(--fill-color);\n",
              "    }\n",
              "  }\n",
              "</style>\n",
              "\n",
              "  <script>\n",
              "    async function quickchart(key) {\n",
              "      const quickchartButtonEl =\n",
              "        document.querySelector('#' + key + ' button');\n",
              "      quickchartButtonEl.disabled = true;  // To prevent multiple clicks.\n",
              "      quickchartButtonEl.classList.add('colab-df-spinner');\n",
              "      try {\n",
              "        const charts = await google.colab.kernel.invokeFunction(\n",
              "            'suggestCharts', [key], {});\n",
              "      } catch (error) {\n",
              "        console.error('Error during call to suggestCharts:', error);\n",
              "      }\n",
              "      quickchartButtonEl.classList.remove('colab-df-spinner');\n",
              "      quickchartButtonEl.classList.add('colab-df-quickchart-complete');\n",
              "    }\n",
              "    (() => {\n",
              "      let quickchartButtonEl =\n",
              "        document.querySelector('#df-08f562fb-1d7f-475d-ad8f-04d786b65ea8 button');\n",
              "      quickchartButtonEl.style.display =\n",
              "        google.colab.kernel.accessAllowed ? 'block' : 'none';\n",
              "    })();\n",
              "  </script>\n",
              "</div>\n",
              "    </div>\n",
              "  </div>\n"
            ]
          },
          "metadata": {},
          "execution_count": 11
        }
      ],
      "source": [
        "np_medians = {\n",
        "    'Оригінальний': np.median(df['width'].dropna()),\n",
        "    'Смугастий': np.median(df_1['width'].dropna()),\n",
        "    'Хемпеля': np.median(df_2['width'].dropna()),\n",
        "    'Z-показник': np.median(df_3['width'].dropna())\n",
        "}\n",
        "\n",
        "medians_comparison = {\n",
        "    'Метод': list(medians.keys()),\n",
        "    '.median()': list(medians.values()),\n",
        "    'np.median()': list(np_medians.values())\n",
        "}\n",
        "\n",
        "medians_comparison_df = pd.DataFrame(medians_comparison)\n",
        "medians_comparison_df\n",
        "\n"
      ]
    },
    {
      "cell_type": "markdown",
      "metadata": {
        "id": "HAdY8AUVNZJ_"
      },
      "source": [
        "Обидва методи обчислюють медіану однаково, тому різниці в результатах немає. Обидві функції, по суті, використовують однакову логіку для обчислення медіани, що забезпечує узгодженість."
      ]
    },
    {
      "cell_type": "markdown",
      "source": [
        "**Завдання 13**"
      ],
      "metadata": {
        "id": "MwvPy6DtRPwX"
      }
    },
    {
      "cell_type": "code",
      "execution_count": null,
      "metadata": {
        "id": "lmTkwWrsNZJ_",
        "outputId": "e4674a49-b1d9-4735-8fbd-a74e76287ac9",
        "colab": {
          "base_uri": "https://localhost:8080/"
        }
      },
      "outputs": [
        {
          "output_type": "execute_result",
          "data": {
            "text/plain": [
              "(4      238.336\n",
              " 8      389.120\n",
              " 13     270.592\n",
              " 22      14.848\n",
              " 43     389.120\n",
              " 69      16.128\n",
              " 77      14.848\n",
              " 93     318.720\n",
              " 105     24.832\n",
              " 162    390.656\n",
              " Name: height, dtype: float64,\n",
              " 8      389.120\n",
              " 13     270.592\n",
              " 22      14.848\n",
              " 43     389.120\n",
              " 69      16.128\n",
              " 77      14.848\n",
              " 93     318.720\n",
              " 162    390.656\n",
              " Name: height, dtype: float64)"
            ]
          },
          "metadata": {},
          "execution_count": 12
        }
      ],
      "source": [
        "Q1_height = df_1['height'].quantile(0.25)\n",
        "Q3_height = df_1['height'].quantile(0.75)\n",
        "IQR_height = Q3_height - Q1_height\n",
        "lower_bound_height = Q1_height - 1.5 * IQR_height\n",
        "upper_bound_height = Q3_height + 1.5 * IQR_height\n",
        "\n",
        "df_1['height'] = df_1['height'].apply(lambda x: np.nan if x < lower_bound_height or x > upper_bound_height else x)\n",
        "\n",
        "z_scores_height = stats.zscore(df_3['height'])\n",
        "df_3['height'] = df_3['height'].where((z_scores_height > -3) & (z_scores_height < 3), np.nan)\n",
        "\n",
        "outliers_height_boxplot = df['height'][df['height'] != df_1['height']]\n",
        "outliers_height_zscore = df['height'][df['height'] != df_3['height']]\n",
        "\n",
        "outliers_height_boxplot, outliers_height_zscore\n"
      ]
    }
  ],
  "metadata": {
    "kernelspec": {
      "display_name": "Python 3",
      "language": "python",
      "name": "python3"
    },
    "language_info": {
      "codemirror_mode": {
        "name": "ipython",
        "version": 3
      },
      "file_extension": ".py",
      "mimetype": "text/x-python",
      "name": "python",
      "nbconvert_exporter": "python",
      "pygments_lexer": "ipython3",
      "version": "3.11.5"
    },
    "colab": {
      "provenance": [],
      "include_colab_link": true
    }
  },
  "nbformat": 4,
  "nbformat_minor": 0
}