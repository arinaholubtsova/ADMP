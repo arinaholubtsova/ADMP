{
  "nbformat": 4,
  "nbformat_minor": 0,
  "metadata": {
    "colab": {
      "provenance": [],
      "authorship_tag": "ABX9TyPyYa8+ToZ4Qkj5JzrmhrlS",
      "include_colab_link": true
    },
    "kernelspec": {
      "name": "python3",
      "display_name": "Python 3"
    },
    "language_info": {
      "name": "python"
    }
  },
  "cells": [
    {
      "cell_type": "markdown",
      "metadata": {
        "id": "view-in-github",
        "colab_type": "text"
      },
      "source": [
        "<a href=\"https://colab.research.google.com/github/arinaholubtsova/ADMP/blob/main/admp2.ipynb\" target=\"_parent\"><img src=\"https://colab.research.google.com/assets/colab-badge.svg\" alt=\"Open In Colab\"/></a>"
      ]
    },
    {
      "cell_type": "markdown",
      "source": [
        "**Завдання 1**"
      ],
      "metadata": {
        "id": "Ddbtg4bzL7kV"
      }
    },
    {
      "cell_type": "code",
      "source": [
        "import numpy as np\n",
        "import matplotlib.pyplot as plt\n",
        "\n",
        "n = 101\n",
        "start = -8 * np.pi\n",
        "end = 8 * np.pi\n",
        "x = np.linspace(start, end, n, dtype=np.float32)"
      ],
      "metadata": {
        "id": "faCeOrAmL8s1"
      },
      "execution_count": null,
      "outputs": []
    },
    {
      "cell_type": "markdown",
      "source": [
        "**Завдання 2**"
      ],
      "metadata": {
        "id": "MYw3_vz-NvdE"
      }
    },
    {
      "cell_type": "code",
      "source": [
        "y1 = np.exp(-0.01 * x**2)\n",
        "\n"
      ],
      "metadata": {
        "id": "g8GAC7TzNunj"
      },
      "execution_count": null,
      "outputs": []
    },
    {
      "cell_type": "markdown",
      "source": [
        "**Завдання 3**"
      ],
      "metadata": {
        "id": "o5lJ7zxxOQIK"
      }
    },
    {
      "cell_type": "code",
      "source": [
        "y2 = (y1 * np.cos(x))\n",
        "\n",
        "\n"
      ],
      "metadata": {
        "id": "rum9KAfROVn3"
      },
      "execution_count": null,
      "outputs": []
    },
    {
      "cell_type": "markdown",
      "source": [
        "**Завдання 4**"
      ],
      "metadata": {
        "id": "sLJsah_2Ojqj"
      }
    },
    {
      "cell_type": "code",
      "source": [
        "delta_y = np.random.uniform(-0.1, 0.1, n)\n",
        "\n",
        "y3 = (y2 + delta_y)\n",
        "\n"
      ],
      "metadata": {
        "id": "_zg7Y78QOj9K"
      },
      "execution_count": null,
      "outputs": []
    },
    {
      "cell_type": "markdown",
      "source": [
        "**Завдання 5**"
      ],
      "metadata": {
        "id": "9O4Jsd6kwNwA"
      }
    },
    {
      "cell_type": "code",
      "source": [
        "import numpy as np\n",
        "x = np.linspace(-10, 10, n)\n",
        "\n",
        "y1 = np.exp(-0.01 * x**2)\n",
        "\n",
        "y2 = y1 * np.cos(x)\n",
        "\n",
        "delta_y = np.random.uniform(-0.1, 0.1, n)\n",
        "\n",
        "y3 = y2 + delta_y\n",
        "\n",
        "if y1.dtype != np.float32:\n",
        "    y1 = y1.astype(np.float32)\n",
        "\n",
        "if y2.dtype != np.float32:\n",
        "    y2 = y2.astype(np.float32)\n",
        "\n",
        "if y3.dtype != np.float32:\n",
        "    y3 = y3.astype(np.float32)"
      ],
      "metadata": {
        "id": "IZzQp2mzwPry"
      },
      "execution_count": null,
      "outputs": []
    },
    {
      "cell_type": "markdown",
      "source": [
        "**Завдання 6**"
      ],
      "metadata": {
        "id": "TvCjXL0HO3RH"
      }
    },
    {
      "cell_type": "code",
      "source": [
        "y2[40:43] = np.nan\n",
        "y3[52:55] = np.nan\n",
        "\n",
        "print(\"y2 для індексів від 39 до 60:\", y2[39:61])\n",
        "print(\"y3 для індексів від 39 до 60:\", y3[39:61])"
      ],
      "metadata": {
        "colab": {
          "base_uri": "https://localhost:8080/"
        },
        "id": "BwqG-9xrO3nw",
        "outputId": "e32b3da9-492e-4a97-8e64-7621a31bef35"
      },
      "execution_count": null,
      "outputs": [
        {
          "output_type": "stream",
          "name": "stdout",
          "text": [
            "y2 для індексів від 39 до 60: [-0.56069595         nan         nan         nan  0.16666822  0.3571772\n",
            "  0.53492624  0.69226205  0.82236975  0.91958845  0.97967464  1.\n",
            "  0.97967464  0.91958845  0.82236975  0.69226205  0.53492624  0.3571772\n",
            "  0.16666822 -0.0284615  -0.21995872 -0.39982948]\n",
            "y3 для індексів від 39 до 60: [-0.6505376  -0.3158259  -0.29061392 -0.05975515  0.19467667  0.36969855\n",
            "  0.6253783   0.7200503   0.8883879   0.98739064  0.9023236   0.9386953\n",
            "  0.93798625         nan         nan         nan  0.61316144  0.44062367\n",
            "  0.15869372  0.07096186 -0.14863355 -0.44068018]\n"
          ]
        }
      ]
    },
    {
      "cell_type": "markdown",
      "source": [
        "**Завдання 7**"
      ],
      "metadata": {
        "id": "7c1ixC-PQOF0"
      }
    },
    {
      "cell_type": "code",
      "source": [
        "import matplotlib.pyplot as plt\n",
        "import numpy as np\n",
        "\n",
        "plt.rcParams['figure.dpi'] = 100\n",
        "\n",
        "n = 101\n",
        "x = np.linspace(-8 * np.pi, 8 * np.pi, n, dtype=np.float32)\n",
        "\n",
        "y1 = np.exp(-0.01 * x**2).astype(np.float32)\n",
        "y2 = (y1 * np.cos(x)).astype(np.float32)\n",
        "delta_y = np.random.uniform(-0.1, 0.1, n).astype(np.float32)\n",
        "y3 = (y2 + delta_y).astype(np.float32)\n",
        "\n",
        "y2[40:43] = np.nan\n",
        "y3[52:55] = np.nan\n",
        "\n",
        "plt.figure(figsize=(10, 6))\n",
        "\n",
        "plt.plot(x, -y1, 'b--', label='$±y_1(x)$')\n",
        "plt.plot(x, y2, 'r-', label='$y_2(x)$')\n",
        "plt.scatter(x, y3, c='g', marker='o', label='$y_3(x_i)$')\n",
        "\n",
        "plt.plot(x, y1, 'b--')\n",
        "plt.plot(x, -y1, 'b--')\n",
        "plt.plot(x, y3, 'g.')\n",
        "\n",
        "plt.xlabel('x')\n",
        "plt.ylabel('y')\n",
        "plt.title('Графіки функцій $±y_1(x)= ±e^{-0.01x^{2}}$, $y_2(x)= e^{-0.01x^{2}} \\cos(x)$\\n і \"експериментальна\" залежність $y_3(x_i)$')\n",
        "plt.xticks([-8 * np.pi, -4 * np.pi, 0, 4 * np.pi, 8 * np.pi], ['-8π', '-4π', '0', '4π', '8π'])\n",
        "plt.yticks([-1.0, -0.5, 0.0, 0.5, 1.0])\n",
        "plt.legend()\n",
        "plt.grid(True)\n",
        "\n",
        "plt.show();\n"
      ],
      "metadata": {
        "colab": {
          "base_uri": "https://localhost:8080/",
          "height": 446
        },
        "id": "rlzTPHyVIUgw",
        "outputId": "e6a091ed-0ab4-4739-aac3-38341d6cc9b1"
      },
      "execution_count": null,
      "outputs": [
        {
          "output_type": "display_data",
          "data": {
            "text/plain": [
              "<Figure size 1000x600 with 1 Axes>"
            ],
            "image/png": "[encoded data removed]"
          },
          "metadata": {}
        }
      ]
    },
    {
      "cell_type": "markdown",
      "source": [
        "**Завдання 8**"
      ],
      "metadata": {
        "id": "zUKlVqHPSvFk"
      }
    },
    {
      "cell_type": "code",
      "source": [
        "bool_y3 = y3 ** 2 > 0.1\n",
        "print('середнє значення: ', np.mean(y3[bool_y3]), ', медіана: ', np.median(y3[bool_y3]))"
      ],
      "metadata": {
        "id": "DawpYmbLTSoL",
        "colab": {
          "base_uri": "https://localhost:8080/"
        },
        "outputId": "8bbf82d7-71c3-4a69-aeab-dc899a9ab5ab"
      },
      "execution_count": null,
      "outputs": [
        {
          "output_type": "stream",
          "name": "stdout",
          "text": [
            "середнє значення:  -0.008743013 , медіана:  -0.33811423\n"
          ]
        }
      ]
    },
    {
      "cell_type": "markdown",
      "source": [
        "**Завдання 9**"
      ],
      "metadata": {
        "id": "tUuyr04SC2T2"
      }
    },
    {
      "cell_type": "code",
      "source": [
        "np.save('x.npy', x)\n",
        "np.save('y1.npy', y1)\n",
        "np.save('y2.npy', y2)\n",
        "np.save('y3.npy', y3)"
      ],
      "metadata": {
        "id": "8Dx7vzXGC8zk"
      },
      "execution_count": null,
      "outputs": []
    },
    {
      "cell_type": "markdown",
      "source": [
        "**Завдання 10**"
      ],
      "metadata": {
        "id": "rzEqHxCaC_fL"
      }
    },
    {
      "cell_type": "code",
      "source": [
        "np.savez_compressed('xy.npz', x = x, y1 = y1, y2 = y2, y3 = y3)"
      ],
      "metadata": {
        "id": "AeeRiok5DDn_"
      },
      "execution_count": null,
      "outputs": []
    },
    {
      "cell_type": "markdown",
      "source": [
        "**Завдання 11**"
      ],
      "metadata": {
        "id": "hxQftH9CDGjZ"
      }
    },
    {
      "cell_type": "code",
      "source": [
        "np.__version__"
      ],
      "metadata": {
        "colab": {
          "base_uri": "https://localhost:8080/",
          "height": 36
        },
        "id": "54sl0lWxDOw4",
        "outputId": "a47ad358-9baf-4fca-8dc5-ee09bd6ee2f5"
      },
      "execution_count": null,
      "outputs": [
        {
          "output_type": "execute_result",
          "data": {
            "text/plain": [
              "'1.23.5'"
            ],
            "application/vnd.google.colaboratory.intrinsic+json": {
              "type": "string"
            }
          },
          "metadata": {},
          "execution_count": 32
        }
      ]
    },
    {
      "cell_type": "code",
      "source": [
        "print(np.array_equal(np.load('x.npy'), x))\n",
        "print(np.array_equal(np.load('y1.npy'), y1))\n",
        "print(np.array_equal(np.load('y2.npy'), y2, equal_nan = True))\n",
        "print(np.array_equal(np.load('y3.npy'), y3, equal_nan = True))"
      ],
      "metadata": {
        "colab": {
          "base_uri": "https://localhost:8080/"
        },
        "id": "zUE9aifiDYeX",
        "outputId": "ac2588f8-4d6f-47f4-ef60-a848d6e474c2"
      },
      "execution_count": null,
      "outputs": [
        {
          "output_type": "stream",
          "name": "stdout",
          "text": [
            "True\n",
            "True\n",
            "True\n",
            "True\n"
          ]
        }
      ]
    },
    {
      "cell_type": "markdown",
      "source": [
        "**Завдання 12**"
      ],
      "metadata": {
        "id": "GldA8EvaDUWI"
      }
    },
    {
      "cell_type": "code",
      "source": [
        "import numpy as np\n",
        "data = np.transpose((x, y1, y2, y3))\n",
        "\n",
        "np.savetxt('xy.csv', data, delimiter=',', header='x, y1, y2, y3', comments='')\n"
      ],
      "metadata": {
        "id": "B1xnlKCEDfwR"
      },
      "execution_count": null,
      "outputs": []
    },
    {
      "cell_type": "markdown",
      "source": [
        "**Завдання 13**"
      ],
      "metadata": {
        "id": "PrGAKbYRQXiL"
      }
    },
    {
      "cell_type": "code",
      "source": [
        "import os\n",
        "import numpy as np\n",
        "\n",
        "np.save('x.npy', x)\n",
        "np.save('y1.npy', y1)\n",
        "np.save('y2.npy', y2)\n",
        "np.save('y3.npy', y3)\n",
        "\n",
        "np.savez('xy.npz', x=x, y1=y1, y2=y2, y3=y3)\n",
        "\n",
        "np.savetxt('xy.csv', np.transpose((x, y1, y2, y3)), delimiter=',', header='x, y1, y2, y3', comments='')\n",
        "\n",
        "npy_file_sizes = [os.path.getsize(f'{name}.npy') for name in ['x', 'y1', 'y2', 'y3']]\n",
        "npz_file_size = os.path.getsize('xy.npz')\n",
        "csv_file_size = os.path.getsize('xy.csv')\n",
        "\n",
        "print(f'Size of x.npy: {npy_file_sizes[0]} bytes')\n",
        "print(f'Size of y1.npy: {npy_file_sizes[1]} bytes')\n",
        "print(f'Size of y2.npy: {npy_file_sizes[2]} bytes')\n",
        "print(f'Size of y3.npy: {npy_file_sizes[3]} bytes')\n",
        "print(f'Size of xy.npz: {npz_file_size} bytes')\n",
        "print(f'Size of xy.csv: {csv_file_size} bytes')\n"
      ],
      "metadata": {
        "colab": {
          "base_uri": "https://localhost:8080/"
        },
        "id": "F0HbhCW9QfFC",
        "outputId": "7ffca0d7-bab3-4818-ccca-330ec85858a7"
      },
      "execution_count": null,
      "outputs": [
        {
          "output_type": "stream",
          "name": "stdout",
          "text": [
            "Size of x.npy: 532 bytes\n",
            "Size of y1.npy: 532 bytes\n",
            "Size of y2.npy: 532 bytes\n",
            "Size of y3.npy: 532 bytes\n",
            "Size of xy.npz: 2580 bytes\n",
            "Size of xy.csv: 10135 bytes\n"
          ]
        }
      ]
    },
    {
      "cell_type": "markdown",
      "source": [
        "**Завдання 14**"
      ],
      "metadata": {
        "id": "rSttkr2ODkIm"
      }
    },
    {
      "cell_type": "code",
      "source": [
        "import numpy as np\n",
        "\n",
        "data = np.genfromtxt('xy.csv', delimiter=',', skip_header=1)\n",
        "print(data)"
      ],
      "metadata": {
        "colab": {
          "base_uri": "https://localhost:8080/"
        },
        "id": "kVmVEahpD0MF",
        "outputId": "2fb7cf18-6534-4bdb-84b4-624abadb3861"
      },
      "execution_count": null,
      "outputs": [
        {
          "output_type": "stream",
          "name": "stdout",
          "text": [
            "[[-2.51327419e+01  1.80616952e-03  1.80616952e-03 -8.62972289e-02]\n",
            " [-2.46300869e+01  2.31948169e-03  2.03257799e-03  4.63415310e-02]\n",
            " [-2.41274319e+01  2.96366168e-03  1.58801011e-03  1.29906079e-02]\n",
            " [-2.36247768e+01  3.76766152e-03  2.36573731e-04  3.24598886e-02]\n",
            " [-2.31221218e+01  4.76563303e-03 -2.02910835e-03 -6.94021359e-02]\n",
            " [-2.26194668e+01  5.99755952e-03 -4.85212868e-03 -5.41987270e-02]\n",
            " [-2.21168118e+01  7.50989839e-03 -7.45068118e-03 -1.41942371e-02]\n",
            " [-2.16141567e+01  9.35618486e-03 -8.69915821e-03 -1.04163006e-01]\n",
            " [-2.11115017e+01  1.15976240e-02 -7.39259552e-03 -1.45466980e-02]\n",
            " [-2.06088486e+01  1.43035688e-02 -2.68023205e-03 -4.54130992e-02]\n",
            " [-2.01061935e+01  1.75519511e-02  5.42384200e-03 -7.53801689e-02]\n",
            " [-1.96035385e+01  2.14294903e-02  1.56214209e-02 -7.49932155e-02]\n",
            " [-1.91008835e+01  2.60317698e-02  2.52139326e-02  4.10269499e-02]\n",
            " [-1.85982285e+01  3.14630680e-02  3.04745976e-02  1.21398948e-01]\n",
            " [-1.80955734e+01  3.78358774e-02  2.75811609e-02  7.50364177e-03]\n",
            " [-1.75929184e+01  4.52701375e-02  1.39892222e-02 -6.78588301e-02]\n",
            " [-1.70902634e+01  5.38921244e-02 -1.00984136e-02  2.35582404e-02]\n",
            " [-1.65876083e+01  6.38328493e-02 -4.06886302e-02 -6.61666393e-02]\n",
            " [-1.60849552e+01  7.52260536e-02 -6.99433908e-02 -6.53902590e-02]\n",
            " [-1.55822992e+01  8.82060006e-02 -8.75104666e-02 -1.52355507e-01]\n",
            " [-1.50796452e+01  1.02904208e-01 -8.32512751e-02 -7.25544840e-02]\n",
            " [-1.45769901e+01  1.19446523e-01 -5.08578792e-02  1.91920474e-02]\n",
            " [-1.40743351e+01  1.37949288e-01  8.66190530e-03  9.77755040e-02]\n",
            " [-1.35716801e+01  1.58515170e-01  8.49366933e-02  1.08429044e-01]\n",
            " [-1.30690250e+01  1.81228966e-01  1.58812195e-01  1.10988691e-01]\n",
            " [-1.25663710e+01  2.06152976e-01  2.06152976e-01  2.91377246e-01]\n",
            " [-1.20637159e+01  2.33322799e-01  2.04462349e-01  1.70220047e-01]\n",
            " [-1.15610609e+01  2.62742400e-01  1.40784398e-01  1.75968453e-01]\n",
            " [-1.10584059e+01  2.94380158e-01  1.84842050e-02 -5.26218787e-02]\n",
            " [-1.05557508e+01  3.28164995e-01 -1.39725998e-01 -1.72703058e-01]\n",
            " [-1.00530968e+01  3.63983184e-01 -2.94468522e-01 -1.97688714e-01]\n",
            " [-9.55044174e+00  4.01676029e-01 -3.98508668e-01 -4.37912881e-01]\n",
            " [-9.04778671e+00  4.41037923e-01 -4.10066664e-01 -4.41272736e-01]\n",
            " [-8.54513168e+00  4.81816113e-01 -3.07121038e-01 -3.10116410e-01]\n",
            " [-8.04247761e+00  5.23711443e-01 -9.81339589e-02 -1.09421529e-01]\n",
            " [-7.53982258e+00  5.66380501e-01  1.75021082e-01  1.40492439e-01]\n",
            " [-7.03716755e+00  6.09438479e-01  4.44261521e-01  4.15788859e-01]\n",
            " [-6.53451252e+00  6.52464509e-01  6.31966174e-01  6.25601232e-01]\n",
            " [-6.03185797e+00  6.95007205e-01  6.73172295e-01  7.44862199e-01]\n",
            " [-5.52920294e+00  7.36592233e-01  5.36952555e-01  6.30243838e-01]\n",
            " [-5.02654839e+00  7.76730478e-01             nan  3.11936229e-01]\n",
            " [-4.52389336e+00  8.14927518e-01             nan -1.12648733e-01]\n",
            " [-4.02123880e+00  8.50693285e-01             nan -4.64124113e-01]\n",
            " [-3.51858377e+00  8.83552670e-01 -8.21506500e-01 -8.22520316e-01]\n",
            " [-3.01592898e+00  9.13055778e-01 -9.05856073e-01 -9.78371143e-01]\n",
            " [-2.51327419e+00  9.38788116e-01 -7.59495556e-01 -6.69775546e-01]\n",
            " [-2.01061940e+00  9.60380316e-01 -4.08910125e-01 -3.32538217e-01]\n",
            " [-1.50796449e+00  9.77516949e-01  6.13787770e-02  7.48472735e-02]\n",
            " [-1.00530970e+00  9.89944398e-01  5.30438662e-01  5.50342858e-01]\n",
            " [-5.02654850e-01  9.97476637e-01  8.74095440e-01  8.70056391e-01]\n",
            " [ 3.55271368e-15  1.00000000e+00  1.00000000e+00  1.03849483e+00]\n",
            " [ 5.02654850e-01  9.97476637e-01  8.74095440e-01  7.90042996e-01]\n",
            " [ 1.00530970e+00  9.89944398e-01  5.30438662e-01             nan]\n",
            " [ 1.50796449e+00  9.77516949e-01  6.13787770e-02             nan]\n",
            " [ 2.01061940e+00  9.60380316e-01 -4.08910125e-01             nan]\n",
            " [ 2.51327419e+00  9.38788116e-01 -7.59495556e-01 -6.98811591e-01]\n",
            " [ 3.01592898e+00  9.13055778e-01 -9.05856073e-01 -8.78437638e-01]\n",
            " [ 3.51858377e+00  8.83552670e-01 -8.21506500e-01 -7.59147167e-01]\n",
            " [ 4.02123880e+00  8.50693285e-01 -5.42252183e-01 -5.37512243e-01]\n",
            " [ 4.52389336e+00  8.14927518e-01 -1.52702242e-01 -1.24838978e-01]\n",
            " [ 5.02654839e+00  7.76730478e-01  2.40023017e-01  2.18509018e-01]\n",
            " [ 5.52920294e+00  7.36592233e-01  5.36952555e-01  5.51988959e-01]\n",
            " [ 6.03185797e+00  6.95007205e-01  6.73172295e-01  7.50905037e-01]\n",
            " [ 6.53451252e+00  6.52464509e-01  6.31966174e-01  5.68018436e-01]\n",
            " [ 7.03716755e+00  6.09438479e-01  4.44261521e-01  3.81770492e-01]\n",
            " [ 7.53982258e+00  5.66380501e-01  1.75021082e-01  2.39601150e-01]\n",
            " [ 8.04247761e+00  5.23711443e-01 -9.81339589e-02 -1.80005386e-01]\n",
            " [ 8.54513168e+00  4.81816113e-01 -3.07121038e-01 -3.05098444e-01]\n",
            " [ 9.04778671e+00  4.41037923e-01 -4.10066664e-01 -4.27607983e-01]\n",
            " [ 9.55044174e+00  4.01676029e-01 -3.98508668e-01 -3.43690246e-01]\n",
            " [ 1.00530968e+01  3.63983184e-01 -2.94468522e-01 -3.53713006e-01]\n",
            " [ 1.05557508e+01  3.28164995e-01 -1.39725998e-01 -9.34864581e-02]\n",
            " [ 1.10584059e+01  2.94380158e-01  1.84842050e-02 -5.34716919e-02]\n",
            " [ 1.15610609e+01  2.62742400e-01  1.40784398e-01  7.53442943e-02]\n",
            " [ 1.20637159e+01  2.33322799e-01  2.04462349e-01  1.51331812e-01]\n",
            " [ 1.25663710e+01  2.06152976e-01  2.06152976e-01  2.66349316e-01]\n",
            " [ 1.30690250e+01  1.81228966e-01  1.58812195e-01  1.79300934e-01]\n",
            " [ 1.35716801e+01  1.58515170e-01  8.49366933e-02  3.88347544e-02]\n",
            " [ 1.40743351e+01  1.37949288e-01  8.66190530e-03  9.75787044e-02]\n",
            " [ 1.45769901e+01  1.19446523e-01 -5.08578792e-02  2.74399593e-02]\n",
            " [ 1.50796452e+01  1.02904208e-01 -8.32512751e-02 -1.57891303e-01]\n",
            " [ 1.55822992e+01  8.82060006e-02 -8.75104666e-02 -2.83226371e-04]\n",
            " [ 1.60849552e+01  7.52260536e-02 -6.99433908e-02 -3.50183658e-02]\n",
            " [ 1.65876083e+01  6.38328493e-02 -4.06886302e-02 -6.04746044e-02]\n",
            " [ 1.70902634e+01  5.38921244e-02 -1.00984136e-02 -4.75266539e-02]\n",
            " [ 1.75929184e+01  4.52701375e-02  1.39892222e-02  1.16762593e-02]\n",
            " [ 1.80955734e+01  3.78358774e-02  2.75811609e-02  9.04964209e-02]\n",
            " [ 1.85982285e+01  3.14630680e-02  3.04745976e-02 -1.34524498e-02]\n",
            " [ 1.91008835e+01  2.60317698e-02  2.52139326e-02  4.69560400e-02]\n",
            " [ 1.96035385e+01  2.14294903e-02  1.56214209e-02  8.10207948e-02]\n",
            " [ 2.01061935e+01  1.75519511e-02  5.42384200e-03 -5.29383346e-02]\n",
            " [ 2.06088486e+01  1.43035688e-02 -2.68023205e-03  9.69166458e-02]\n",
            " [ 2.11115017e+01  1.15976240e-02 -7.39259552e-03  9.56951175e-03]\n",
            " [ 2.16141567e+01  9.35618486e-03 -8.69915821e-03  6.82796910e-02]\n",
            " [ 2.21168118e+01  7.50989839e-03 -7.45068118e-03  6.06117509e-02]\n",
            " [ 2.26194668e+01  5.99755952e-03 -4.85212868e-03 -9.30595174e-02]\n",
            " [ 2.31221218e+01  4.76563303e-03 -2.02910835e-03 -7.59935752e-02]\n",
            " [ 2.36247768e+01  3.76766152e-03  2.36573731e-04 -6.11150451e-02]\n",
            " [ 2.41274319e+01  2.96366168e-03  1.58801011e-03 -3.67087796e-02]\n",
            " [ 2.46300869e+01  2.31948169e-03  2.03257799e-03  4.24617939e-02]\n",
            " [ 2.51327419e+01  1.80616952e-03  1.80616952e-03 -1.46347261e-03]]\n"
          ]
        }
      ]
    },
    {
      "cell_type": "markdown",
      "source": [
        "**Завдання 15**"
      ],
      "metadata": {
        "id": "91rpyqW6D3Q3"
      }
    },
    {
      "cell_type": "code",
      "source": [
        "import numpy as np\n",
        "\n",
        "data = np.genfromtxt('xy.csv', delimiter=',', skip_header=1)\n",
        "\n",
        "x_csv = data[:, 0]\n",
        "y2_csv = data[:, 2]\n",
        "\n",
        "x_equal = np.array_equal(x, x_csv)\n",
        "y2_equal = np.array_equal(y2, y2_csv)\n",
        "\n",
        "print(f'Are x and x_csv equal? {x_equal}')\n",
        "print(f'Are y2 and y2_csv equal? {y2_equal}')\n"
      ],
      "metadata": {
        "colab": {
          "base_uri": "https://localhost:8080/"
        },
        "id": "8dpd9nnrD6eK",
        "outputId": "da093930-7480-4687-8f1d-3023e3bbddd3"
      },
      "execution_count": null,
      "outputs": [
        {
          "output_type": "stream",
          "name": "stdout",
          "text": [
            "Are x and x_csv equal? True\n",
            "Are y2 and y2_csv equal? False\n"
          ]
        }
      ]
    }
  ]
}